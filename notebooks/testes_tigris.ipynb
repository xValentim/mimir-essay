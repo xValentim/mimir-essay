{
 "cells": [
  {
   "cell_type": "code",
   "execution_count": 1,
   "metadata": {},
   "outputs": [],
   "source": [
    "# bring in our LLAMA_CLOUD_API_KEY\n",
    "from dotenv import load_dotenv\n",
    "load_dotenv()\n",
    "\n",
    "import nest_asyncio\n",
    "\n",
    "nest_asyncio.apply()"
   ]
  },
  {
   "cell_type": "code",
   "execution_count": 2,
   "metadata": {},
   "outputs": [],
   "source": [
    "from urllib.request import Request, urlopen\n",
    "from io import BytesIO\n",
    "from PIL import Image\n",
    "from llama_parse import LlamaParse \n",
    "import json\n",
    "\n",
    "path = \"https://fly.storage.tigris.dev/essays/redacao_1.jpg\"\n",
    "\n",
    "remoteFile = urlopen(Request(path)).read()\n",
    "memoryFile = BytesIO(remoteFile)"
   ]
  },
  {
   "cell_type": "code",
   "execution_count": 3,
   "metadata": {},
   "outputs": [],
   "source": [
    "image = Image.open(memoryFile)\n",
    "image.save(\"minha_imagem.png\", \"PNG\")"
   ]
  },
  {
   "cell_type": "code",
   "execution_count": 4,
   "metadata": {},
   "outputs": [
    {
     "name": "stdout",
     "output_type": "stream",
     "text": [
      "Started parsing the file under job_id 6f13f29e-cb24-4740-bf5c-c5e0ae7ec9d9\n"
     ]
    }
   ],
   "source": [
    "llamaparse = LlamaParse(premium_mode=True)\n",
    "parsed_result = llamaparse.get_json_result(\"./minha_imagem.png\")"
   ]
  },
  {
   "cell_type": "code",
   "execution_count": 5,
   "metadata": {},
   "outputs": [
    {
     "data": {
      "text/markdown": [
       "# FOLHA DE REDAÇÃO\n",
       "EXAME NACIONAL DO ENSINO MÉDIO - ENEM 2023\n",
       "\n",
       "**Número de Inscrição:** 231005093712  \n",
       "**Sequencial:** 028  \n",
       "**Sala:** 617  \n",
       "**Data de Nascimento:** 29/10/1988\n",
       "\n",
       "### INSTRUÇÕES\n",
       "1. Transcreva a sua redação com caneta esferográfica de tinta preta, fabricada em material transparente.\n",
       "2. Escreva a sua redação com letra legível. No caso de erro, risque, com um traço simples, a palavra, a frase, o trecho ou o sinal gráfico e escreva, em seguida, o respectivo substitutivo.\n",
       "3. Não será avaliado texto escrito em local indevido. Respeite rigorosamente as margens.\n",
       "\n",
       "Historicamente, o mundo do trabalho foi dominado pelos homens, restando para as mulheres, principalmente o trabalho doméstico e de cuidado com a família. Com efeito, no Brasil não foi diferente, e, ainda hoje, existem desafios que precisam ser enfrentados para reduzir a invisibilidade do trabalho de cuidado realizado pela mulher no país uma vez que esse grupo da sociedade permanece em situação de exclusão e subserviência no mercado trabalhista. Diante desse cenário, é fundamental compreender as causas desse viés, dentre as quais a desigualdade social e o patriarcalismo enraizado na sociedade. São fatores agravantes dessa problemática.\n",
       "\n",
       "Em uma primeira análise, destaca-se a desigualdade social como um dos desafios a ser enfrentado para minimizar a invisibilidade do trabalho de cuidado realizado pela mulher no Brasil. Nesse sentido, a escritora Carolina Maria de Jesus, em sua obra literária \"Quarto de Despejo\", escrita em meados do século XX, traz uma denúncia social, com uma visão feminina de uma moradora da favela, na qual retrata a invisibilidade das pessoas que vivem em regiões desprivilegiadas pelo poder público e que precisam se submeter a situações degradantes para conseguir sobreviver e não morrer de fome. Sob essa ótica, percebe-se que a desigualdade social gerada pela ausência do amparo estatal para as camadas mais pobres da população ocasiona na aceitação de trabalhos mal remunerados e informais, principalmente pelas mulheres. Assim, é fundamental que haja políticas públicas que reconheçam a importância do trabalho de cuidado no país e tragam garantias para essa atividade que será cada vez mais demandada com o envelhecimento da população.\n",
       "\n",
       "Outrossim, evidencia-se que o patriarcalismo enraizado na sociedade brasileira é outro fator que contribui para a falta de visibilidade do trabalho de cuidado desempenhado pela mulher no país, sendo a desconstrução dessa cultura de inferioridade feminina mais um desafio a ser superado para solucionar esse agravo social. Segundo preceitua a Constituição Federal, em seu artigo 3º, é objetivo do Estado a construção de uma sociedade justa e igualitária sem distinção de gênero, raça, etc. No entanto, as mulheres ainda são prejudicadas quanto aos direitos trabalhistas, recebendo salários menores e não sendo valorizadas especialmente nos trabalhos realizados em ambientes domésticos. Dessa forma, é preciso que haja uma mudança cultural no pensamento patriarcal a fim de ampliar a importância desse trabalho de cuidado feminino com o reconhecimento das garantias constitucionais.\n",
       "\n",
       "É evidente, portanto, que medidas precisam ser tomadas para solucionar esse problema. Para tanto, o Congresso Nacional, por meio da elaboração de leis específicas, deve criar normas que assegurem a visibilidade do trabalho de cuidado exercente no país, praticado majoritariamente por mulheres, com a regulamentação de direitos trabalhistas para essa categoria, a fim de que essas trabalhadoras possam ter uma vida digna, uma jornada legal de trabalho e uma remuneração justa que lhes permita ter acesso à moradia, alimentação, saúde e lazer."
      ],
      "text/plain": [
       "<IPython.core.display.Markdown object>"
      ]
     },
     "metadata": {},
     "output_type": "display_data"
    }
   ],
   "source": [
    "from IPython.display import display, Markdown\n",
    "\n",
    "display(Markdown(parsed_result[0]['pages'][0]['md']))"
   ]
  },
  {
   "cell_type": "code",
   "execution_count": 6,
   "metadata": {},
   "outputs": [
    {
     "name": "stdout",
     "output_type": "stream",
     "text": [
      "Started parsing the file under job_id 7b33a826-7275-4f70-8b43-943ecad2c2e7\n"
     ]
    },
    {
     "data": {
      "text/markdown": [
       "# FOLHA DE REDAÇÃO\n",
       "EXAME NACIONAL DO ENSINO MÉDIO - ENEM 2023\n",
       "\n",
       "**Número de Inscrição**: 231005093712  \n",
       "**Sequencial**: 028  \n",
       "**Sala**: 617  \n",
       "**Data de Nascimento**: 29/10/1988\n",
       "\n",
       "### INSTRUÇÕES\n",
       "1. Transcreva a sua redação com caneta esferográfica de tinta preta, fabricada em material transparente.\n",
       "2. Escreva a sua redação com letra legível. No caso de erro, risque, com um traço simples, a palavra, a frase, o trecho ou o sinal gráfico e escreva, em seguida, o respectivo substitutivo.\n",
       "3. Não será avaliado texto escrito em local indevido. Respeite rigorosamente as margens.\n",
       "\n",
       "Historicamente, o mundo do trabalho foi dominado pelos homens, restando para as mulheres, prin-\n",
       "cipalmente, o trabalho doméstico e de cuidado com a família. Com efeito, no Brasil não foi diferente, e,\n",
       "ainda hoje, existem desafios que precisam ser enfrentados para reduzir a invisibilidade do trabalho de\n",
       "cuidado realizado pela mulher no país, uma vez que esse grupo da sociedade permanece em situação de\n",
       "exclusão e resistência no mercado trabalhista. Diante desse cenário, é fundamental compreender as\n",
       "causas desse revés, dentre as quais a desigualdade social e o patriarcalismo enraizado na sociedade\n",
       "são fatores agravantes dessa problemática.\n",
       "\n",
       "Em uma primeira análise, destaca-se a desigualdade social como um dos fatores a ser enfrentado pa-\n",
       "ra amenizar a invisibilidade do trabalho de cuidado realizado pela mulher no Brasil. Nesse sentido,\n",
       "a escritora Carolina Maria de Jesus, em sua obra literária \"Quarto de Despejo\", escrita em meados do sé-\n",
       "culo XX, traz uma denúncia social, com uma visão feminina, de uma moradora de favela, na qual re-\n",
       "trata a invisibilidade das pessoas que vivem em regiões desprivilegiadas pelo poder público e que precisam\n",
       "se submeter a situações degradantes para conseguir sobreviver e não morrer de fome. Sob essa ótica, pa-\n",
       "rece-se que a desigualdade social gerada pela ausência do amparo estatal para as camadas mais pobres da\n",
       "população ocasiona na aceitação de trabalhos mal remunerados e informais, principalmente pelas mulhe-\n",
       "res. Assim, é fundamental que haja políticas públicas que reconheçam a importância do trabalho de cuidado no\n",
       "país e tragam garantias para essa atividade que será cada vez mais demandada com o envelhecimento da população.\n",
       "\n",
       "Outrossim, salienta-se que o patriarcalismo enraizado na sociedade brasileira é outro fator que contribui pa-\n",
       "ra a falta de visibilidade do trabalho de cuidado desempenhado pela mulher no país, sendo a desconstrução dessa\n",
       "cultura de inferioridade feminina mais um desafio a ser superado para solucionar esse gravame social. Segundo\n",
       "preceitua a Constituição Federal, em seu artigo 5º, é objetivo do Estado a construção de uma sociedade justa e igua-\n",
       "litária, sem distinção de gênero, raça, etc. No entanto, as mulheres ainda são prejudicadas quanto aos direitos\n",
       "trabalhistas, recebendo salários menores e não sendo valorizadas especialmente nos trabalhos realizados em am-\n",
       "bientes domésticos. Dessa forma, é preciso que haja uma mudança cultural no pensamento patriarcal a fim de ampliar\n",
       "a importância desse trabalho de cuidado feminino com o reconhecimento das garantias constitucionais.\n",
       "\n",
       "É urgente, portanto, que medidas precisam ser tomadas para solucionar esse problema. Para tanto, o Congresso\n",
       "Nacional, por meio da elaboração de leis específicas, deve criar normas que assegurem a visibilidade do trabalho de\n",
       "cuidado existente no país, executado majoritariamente por mulheres, com a regulamentação de direitos trabalhis-\n",
       "tas para essa categoria, a fim de que essas trabalhadoras possam ter uma vida digna, uma jornada legal de traba-\n",
       "lho e uma remuneração justa que lhes permita ter acesso à moradia, alimentação, saúde e lazer."
      ],
      "text/plain": [
       "<IPython.core.display.Markdown object>"
      ]
     },
     "metadata": {},
     "output_type": "display_data"
    }
   ],
   "source": [
    "llamaparse = LlamaParse(premium_mode=True)\n",
    "parsed_result = llamaparse.get_json_result(\"./data/redacao_1.jpg\")\n",
    "display(Markdown(parsed_result[0]['pages'][0]['md']))"
   ]
  },
  {
   "cell_type": "code",
   "execution_count": 7,
   "metadata": {},
   "outputs": [],
   "source": [
    "redacao_md = parsed_result[0]['pages'][0]['md']\n",
    "tema = \"Pena de morte legalizada no Brasil\""
   ]
  },
  {
   "cell_type": "code",
   "execution_count": 19,
   "metadata": {},
   "outputs": [],
   "source": [
    "from services.essay import *\n",
    "\n",
    "chain = get_chain_feedback_essay(model='openai')"
   ]
  },
  {
   "cell_type": "code",
   "execution_count": 20,
   "metadata": {},
   "outputs": [],
   "source": [
    "response = chain.invoke({\"texto\": redacao_md,\n",
    "                         \"tema\": tema})"
   ]
  },
  {
   "cell_type": "code",
   "execution_count": 21,
   "metadata": {},
   "outputs": [
    {
     "data": {
      "text/markdown": [
       "## Tema da redação: A invisibilidade do trabalho de cuidado realizado por mulheres no Brasil\n",
       "# Nota total: 880\n",
       "\n",
       "## Competência 1 - Nota: 160\n",
       "\n",
       "- **Ortografia e Acentuação**: O texto apresenta um bom domínio da ortografia e acentuação, sem erros significativos que comprometam a compreensão. No entanto, é importante sempre revisar para evitar deslizes, como a repetição de palavras ou erros de digitação.\n",
       "\n",
       "- **Concordância Verbal e Nominal**: A redação demonstra um bom uso da concordância verbal e nominal. Por exemplo, em \"as mulheres ainda são prejudicadas quanto aos direitos trabalhistas\", a concordância está correta. Continue revisando para garantir que não ocorram erros em frases mais complexas.\n",
       "\n",
       "- **Regência Verbal e Nominal**: A regência está adequada na maior parte do texto. Um exemplo positivo é \"ocasiona na aceitação de trabalhos mal remunerados\", onde a regência está correta. É importante manter a atenção para evitar erros em frases mais longas ou complexas.\n",
       "\n",
       "- **Pontuação**: A pontuação é, em geral, bem utilizada, mas há espaço para melhorias. Por exemplo, a frase \"Dessa forma, é preciso que haja uma mudança cultural no pensamento patriarcal a fim de ampliar a importância desse trabalho de cuidado feminino com o reconhecimento das garantias constitucionais\" poderia ser dividida para melhorar a clareza. Sugestão: \"Dessa forma, é preciso que haja uma mudança cultural no pensamento patriarcal. Isso ampliaria a importância do trabalho de cuidado feminino, com o reconhecimento das garantias constitucionais.\"\n",
       "\n",
       "- **Estrutura Sintática**: A estrutura das frases é clara e bem organizada, mas algumas frases são longas e poderiam ser simplificadas para melhorar a fluidez do texto. Tente dividir frases complexas em sentenças menores para facilitar a leitura e compreensão.\n",
       "\n",
       "- **Sugestões de Melhoria**: \n",
       "  - Continue revisando o texto para identificar e corrigir possíveis erros de digitação ou repetição de palavras.\n",
       "  - Pratique a divisão de frases longas em sentenças menores para melhorar a clareza e a fluidez do texto.\n",
       "  - Mantenha a atenção na regência verbal e nominal, especialmente em frases mais complexas, para garantir a correção gramatical.\n",
       "\n",
       "## Competência 2 - Nota: 200\n",
       "\n",
       "- **Compreensão do Tema**: A redação demonstra uma compreensão clara e aprofundada do tema proposto, que é a invisibilidade do trabalho de cuidado realizado por mulheres no Brasil. O texto aborda de forma precisa os desafios enfrentados por essas mulheres, como a desigualdade social e o patriarcalismo, que são fatores centrais para a discussão.\n",
       "  \n",
       "- **Desenvolvimento do Texto Dissertativo-Argumentativo**: O texto segue a estrutura dissertativo-argumentativa de maneira exemplar, com uma introdução que apresenta a tese, desenvolvimento com argumentação consistente e uma conclusão que propõe uma intervenção. A argumentação é bem distribuída ao longo dos parágrafos, com cada um abordando um aspecto diferente do tema.\n",
       "\n",
       "- **Repertório Sociocultural**: A redação utiliza um repertório sociocultural produtivo, como a referência à obra \"Quarto de Despejo\" de Carolina Maria de Jesus e à Constituição Federal, para embasar os argumentos. Isso demonstra um excelente domínio do tema e enriquece a argumentação.\n",
       "\n",
       "- **Sugestões de Melhoria**: Embora a redação já esteja em um nível muito alto, poderia ser enriquecida ainda mais com a inclusão de dados estatísticos ou estudos recentes que reforcem os argumentos apresentados. Além disso, explorar exemplos de políticas públicas bem-sucedidas em outros países poderia oferecer uma perspectiva comparativa interessante.\n",
       "\n",
       "A redação está muito bem estruturada e desenvolvida, atendendo plenamente aos critérios da competência 2.\n",
       "\n",
       "## Competência 3 - Nota: 200\n",
       "\n",
       "- **Seleção e Organização de Informações**: A redação apresenta uma seleção clara e organizada de informações, fatos e opiniões pertinentes ao tema proposto. O texto inicia com uma contextualização histórica e social do papel das mulheres no trabalho, o que é relevante para a discussão sobre a invisibilidade do trabalho de cuidado. A menção à obra \"Quarto de Despejo\" de Carolina Maria de Jesus é um exemplo bem escolhido que ilustra a desigualdade social e a invisibilidade enfrentada pelas mulheres, demonstrando uma boa capacidade de relacionar literatura e realidade social.\n",
       "\n",
       "- **Defesa de Ponto de Vista**: O autor defende de forma consistente o ponto de vista de que a desigualdade social e o patriarcalismo são fatores que contribuem para a invisibilidade do trabalho de cuidado realizado por mulheres. A argumentação é clara e bem estruturada, com uma tese explícita e argumentos que a sustentam ao longo do texto. A citação da Constituição Federal reforça a argumentação sobre a necessidade de igualdade de gênero, mostrando uma boa articulação entre os argumentos apresentados.\n",
       "\n",
       "- **Proposta de Intervenção**: A conclusão apresenta uma proposta de intervenção coerente com a argumentação desenvolvida, sugerindo a criação de leis específicas para assegurar a visibilidade e os direitos trabalhistas das mulheres no setor de cuidado. Essa proposta é relevante e demonstra uma compreensão aprofundada do tema, além de estar alinhada com a tese defendida.\n",
       "\n",
       "- **Sugestões de Melhoria**: Embora a redação já esteja bem estruturada, uma sugestão seria aprofundar ainda mais a discussão sobre como as políticas públicas podem ser implementadas na prática, talvez mencionando exemplos de outros países que conseguiram avanços nessa área. Além disso, poderia ser interessante explorar mais a questão do impacto do envelhecimento da população na demanda por trabalho de cuidado, trazendo dados ou previsões que reforcem a urgência da questão.\n",
       "\n",
       "## Competência 4 - Nota: 160\n",
       "\n",
       "- **Articulação das ideias**: A redação apresenta uma boa articulação das ideias, com o uso de conectivos como \"com efeito\", \"diante desse cenário\", \"nesse sentido\", \"sob essa ótica\", \"outrossim\", e \"dessa forma\". Esses conectivos ajudam a guiar o leitor através do texto e a entender a progressão lógica dos argumentos. No entanto, há espaço para diversificar ainda mais o uso de conectivos e modalizadores para enriquecer a argumentação. Por exemplo, ao invés de \"dessa forma\", poderia ser utilizado \"consequentemente\" ou \"portanto\" para variar o repertório.\n",
       "  \n",
       "- **Coesão textual**: A coesão textual é mantida ao longo do texto, mas há algumas repetições que poderiam ser evitadas para melhorar a fluidez. Por exemplo, a expressão \"trabalho de cuidado\" é repetida várias vezes. Poderia ser substituída por sinônimos ou expressões equivalentes, como \"atividades de cuidado\" ou \"tarefas de assistência\", para evitar a repetição e enriquecer o texto.\n",
       "\n",
       "- **Uso de pronomes e referências**: O uso de pronomes e referências está adequado, mas poderia ser aprimorado para evitar repetições desnecessárias. Por exemplo, ao invés de repetir \"mulheres\" várias vezes, poderia ser utilizado \"elas\" ou \"esse grupo\" para referir-se ao mesmo sujeito, mantendo a coesão e evitando a repetição.\n",
       "\n",
       "- **Sugestões de melhoria**: Para alcançar uma nota mais alta, o autor pode:\n",
       "  - Diversificar ainda mais o uso de conectivos e modalizadores para enriquecer a argumentação.\n",
       "  - Evitar repetições desnecessárias, utilizando sinônimos ou expressões equivalentes.\n",
       "  - Melhorar o uso de pronomes e referências para manter a coesão sem repetição excessiva.\n",
       "  - Incluir mais exemplos ou dados concretos para fortalecer os argumentos apresentados, o que pode ajudar a criar uma argumentação mais robusta e convincente.\n",
       "\n",
       "## Competência 5 - Nota: 160\n",
       "\n",
       "- **Proposta de Intervenção Bem Elaborada**: A redação apresenta uma proposta de intervenção clara e articulada com a discussão do texto. O autor sugere que o Congresso Nacional crie leis específicas para assegurar a visibilidade do trabalho de cuidado, com regulamentação de direitos trabalhistas para essa categoria. Essa proposta está bem relacionada ao tema e aos problemas discutidos, como a desigualdade social e o patriarcalismo.\n",
       "\n",
       "- **Detalhamento da Proposta**: A proposta poderia ser ainda mais detalhada para alcançar a pontuação máxima. Por exemplo, o autor poderia especificar quais tipos de leis seriam necessárias, como a implementação de políticas de incentivo fiscal para empresas que promovem a igualdade de gênero ou a criação de programas de capacitação para mulheres em situação de vulnerabilidade.\n",
       "\n",
       "- **Respeito aos Direitos Humanos**: A proposta respeita os direitos humanos ao buscar garantir uma vida digna e justa para as mulheres que realizam trabalhos de cuidado. No entanto, poderia incluir mais detalhes sobre como essas leis seriam implementadas na prática, garantindo que as mudanças sejam efetivas e sustentáveis.\n",
       "\n",
       "- **Viabilidade e Ética**: A proposta é viável e ética, mas poderia ser fortalecida com a inclusão de parcerias com organizações não governamentais ou internacionais que já atuam na promoção dos direitos das mulheres, o que poderia aumentar a eficácia das medidas sugeridas.\n",
       "\n",
       "Para melhorar, o autor pode focar em detalhar mais a implementação prática das propostas, incluindo exemplos de políticas públicas bem-sucedidas em outros contextos ou países, e considerar a inclusão de múltiplos agentes sociais na execução das medidas sugeridas."
      ],
      "text/plain": [
       "<IPython.core.display.Markdown object>"
      ]
     },
     "metadata": {},
     "output_type": "display_data"
    }
   ],
   "source": [
    "display(Markdown(response))"
   ]
  },
  {
   "cell_type": "code",
   "execution_count": 22,
   "metadata": {},
   "outputs": [],
   "source": [
    "from pydantic import BaseModel, Field\n",
    "from typing import List\n",
    "\n",
    "from langchain_openai import ChatOpenAI\n",
    "from langchain_core.prompts import ChatPromptTemplate\n",
    "\n",
    "llm = ChatOpenAI(\n",
    "    model=\"gpt-4o-2024-08-06\", # 100% json output\n",
    "    temperature=0,\n",
    ")\n",
    "\n",
    "system_prompt = \"\"\"\n",
    "Você vai receber a correção/feedback de uma redação cujas competências são 5 junto de um feedback geral. A correção é feita da seguinte forma: Existem 5 competências medidas, pra cada uma delas haverá uma nota e um feedback em texto, além de um feedback geral e uma nota geral que é composta pela soma das 5 competências.\n",
    "\n",
    "Sua tarefa é extrair cada competência individualmente definindo o feedback e a nota.\n",
    "\"\"\"\n",
    "\n",
    "prompt = ChatPromptTemplate.from_messages(\n",
    "        [\n",
    "            (\"system\", system_prompt), \n",
    "            (\"human\", \"Essay: \\n\\n {document}\")\n",
    "        ]\n",
    ")\n",
    "\n",
    "model_name = \"gpt-4o-2024-08-06\"\n",
    "\n",
    "class GetSchema(BaseModel):\n",
    "    \"\"\"Extrai metadados da correção da redação.\"\"\"\n",
    "    \n",
    "    competencia_1_feedback: str = Field(description=\"Feedback em texto da competência 1\")\n",
    "    competencia_1_grade: int = Field(description=\"Nota da competência 1\")\n",
    "    \n",
    "    competencia_2_feedback: str = Field(description=\"Feedback em texto da competência 2\")\n",
    "    competencia_2_grade: int = Field(description=\"Nota da competência 2\")\n",
    "    \n",
    "    competencia_3_feedback: str = Field(description=\"Feedback em texto da competência 3\")\n",
    "    competencia_3_grade: int = Field(description=\"Nota da competência 3\")\n",
    "    \n",
    "    competencia_4_feedback: str = Field(description=\"Feedback em texto da competência 4\")\n",
    "    competencia_4_grade: int = Field(description=\"Nota da competência 4\")\n",
    "    \n",
    "    competencia_5_feedback: str = Field(description=\"Feedback em texto da competência 5\")\n",
    "    competencia_5_grade: int = Field(description=\"Nota da competência 5\")\n",
    "    \n",
    "\n",
    "llm_with_tools_extraction = llm.bind_tools([GetSchema]) #, strict=True)\n",
    "chain_structured_extraction = prompt | llm_with_tools_extraction"
   ]
  },
  {
   "cell_type": "code",
   "execution_count": 23,
   "metadata": {},
   "outputs": [],
   "source": [
    "schema_response = chain_structured_extraction.invoke({\"document\": response})"
   ]
  },
  {
   "cell_type": "code",
   "execution_count": 24,
   "metadata": {},
   "outputs": [],
   "source": [
    "# schema_response.tool_calls[i] for i in range(len)"
   ]
  },
  {
   "cell_type": "code",
   "execution_count": 25,
   "metadata": {},
   "outputs": [
    {
     "data": {
      "text/plain": [
       "[{'competencia_1_feedback': 'Ortografia e Acentuação: O texto apresenta um bom domínio da ortografia e acentuação, sem erros significativos que comprometam a compreensão. No entanto, é importante sempre revisar para evitar deslizes, como a repetição de palavras ou erros de digitação. Concordância Verbal e Nominal: A redação demonstra um bom uso da concordância verbal e nominal. Por exemplo, em \"as mulheres ainda são prejudicadas quanto aos direitos trabalhistas\", a concordância está correta. Continue revisando para garantir que não ocorram erros em frases mais complexas. Regência Verbal e Nominal: A regência está adequada na maior parte do texto. Um exemplo positivo é \"ocasiona na aceitação de trabalhos mal remunerados\", onde a regência está correta. É importante manter a atenção para evitar erros em frases mais longas ou complexas. Pontuação: A pontuação é, em geral, bem utilizada, mas há espaço para melhorias. Por exemplo, a frase \"Dessa forma, é preciso que haja uma mudança cultural no pensamento patriarcal a fim de ampliar a importância desse trabalho de cuidado feminino com o reconhecimento das garantias constitucionais\" poderia ser dividida para melhorar a clareza. Sugestão: \"Dessa forma, é preciso que haja uma mudança cultural no pensamento patriarcal. Isso ampliaria a importância do trabalho de cuidado feminino, com o reconhecimento das garantias constitucionais.\" Estrutura Sintática: A estrutura das frases é clara e bem organizada, mas algumas frases são longas e poderiam ser simplificadas para melhorar a fluidez do texto. Tente dividir frases complexas em sentenças menores para facilitar a leitura e compreensão. Sugestões de Melhoria: Continue revisando o texto para identificar e corrigir possíveis erros de digitação ou repetição de palavras. Pratique a divisão de frases longas em sentenças menores para melhorar a clareza e a fluidez do texto. Mantenha a atenção na regência verbal e nominal, especialmente em frases mais complexas, para garantir a correção gramatical.',\n",
       "  'competencia_1_grade': 160},\n",
       " {'competencia_2_feedback': 'Compreensão do Tema: A redação demonstra uma compreensão clara e aprofundada do tema proposto, que é a invisibilidade do trabalho de cuidado realizado por mulheres no Brasil. O texto aborda de forma precisa os desafios enfrentados por essas mulheres, como a desigualdade social e o patriarcalismo, que são fatores centrais para a discussão. Desenvolvimento do Texto Dissertativo-Argumentativo: O texto segue a estrutura dissertativo-argumentativa de maneira exemplar, com uma introdução que apresenta a tese, desenvolvimento com argumentação consistente e uma conclusão que propõe uma intervenção. A argumentação é bem distribuída ao longo dos parágrafos, com cada um abordando um aspecto diferente do tema. Repertório Sociocultural: A redação utiliza um repertório sociocultural produtivo, como a referência à obra \"Quarto de Despejo\" de Carolina Maria de Jesus e à Constituição Federal, para embasar os argumentos. Isso demonstra um excelente domínio do tema e enriquece a argumentação. Sugestões de Melhoria: Embora a redação já esteja em um nível muito alto, poderia ser enriquecida ainda mais com a inclusão de dados estatísticos ou estudos recentes que reforcem os argumentos apresentados. Além disso, explorar exemplos de políticas públicas bem-sucedidas em outros países poderia oferecer uma perspectiva comparativa interessante. A redação está muito bem estruturada e desenvolvida, atendendo plenamente aos critérios da competência 2.',\n",
       "  'competencia_2_grade': 200},\n",
       " {'competencia_3_feedback': 'Seleção e Organização de Informações: A redação apresenta uma seleção clara e organizada de informações, fatos e opiniões pertinentes ao tema proposto. O texto inicia com uma contextualização histórica e social do papel das mulheres no trabalho, o que é relevante para a discussão sobre a invisibilidade do trabalho de cuidado. A menção à obra \"Quarto de Despejo\" de Carolina Maria de Jesus é um exemplo bem escolhido que ilustra a desigualdade social e a invisibilidade enfrentada pelas mulheres, demonstrando uma boa capacidade de relacionar literatura e realidade social. Defesa de Ponto de Vista: O autor defende de forma consistente o ponto de vista de que a desigualdade social e o patriarcalismo são fatores que contribuem para a invisibilidade do trabalho de cuidado realizado por mulheres. A argumentação é clara e bem estruturada, com uma tese explícita e argumentos que a sustentam ao longo do texto. A citação da Constituição Federal reforça a argumentação sobre a necessidade de igualdade de gênero, mostrando uma boa articulação entre os argumentos apresentados. Proposta de Intervenção: A conclusão apresenta uma proposta de intervenção coerente com a argumentação desenvolvida, sugerindo a criação de leis específicas para assegurar a visibilidade e os direitos trabalhistas das mulheres no setor de cuidado. Essa proposta é relevante e demonstra uma compreensão aprofundada do tema, além de estar alinhada com a tese defendida. Sugestões de Melhoria: Embora a redação já esteja bem estruturada, uma sugestão seria aprofundar ainda mais a discussão sobre como as políticas públicas podem ser implementadas na prática, talvez mencionando exemplos de outros países que conseguiram avanços nessa área. Além disso, poderia ser interessante explorar mais a questão do impacto do envelhecimento da população na demanda por trabalho de cuidado, trazendo dados ou previsões que reforcem a urgência da questão.',\n",
       "  'competencia_3_grade': 200},\n",
       " {'competencia_4_feedback': 'Articulação das ideias: A redação apresenta uma boa articulação das ideias, com o uso de conectivos como \"com efeito\", \"diante desse cenário\", \"nesse sentido\", \"sob essa ótica\", \"outrossim\", e \"dessa forma\". Esses conectivos ajudam a guiar o leitor através do texto e a entender a progressão lógica dos argumentos. No entanto, há espaço para diversificar ainda mais o uso de conectivos e modalizadores para enriquecer a argumentação. Por exemplo, ao invés de \"dessa forma\", poderia ser utilizado \"consequentemente\" ou \"portanto\" para variar o repertório. Coesão textual: A coesão textual é mantida ao longo do texto, mas há algumas repetições que poderiam ser evitadas para melhorar a fluidez. Por exemplo, a expressão \"trabalho de cuidado\" é repetida várias vezes. Poderia ser substituída por sinônimos ou expressões equivalentes, como \"atividades de cuidado\" ou \"tarefas de assistência\", para evitar a repetição e enriquecer o texto. Uso de pronomes e referências: O uso de pronomes e referências está adequado, mas poderia ser aprimorado para evitar repetições desnecessárias. Por exemplo, ao invés de repetir \"mulheres\" várias vezes, poderia ser utilizado \"elas\" ou \"esse grupo\" para referir-se ao mesmo sujeito, mantendo a coesão e evitando a repetição. Sugestões de melhoria: Para alcançar uma nota mais alta, o autor pode: Diversificar ainda mais o uso de conectivos e modalizadores para enriquecer a argumentação. Evitar repetições desnecessárias, utilizando sinônimos ou expressões equivalentes. Melhorar o uso de pronomes e referências para manter a coesão sem repetição excessiva. Incluir mais exemplos ou dados concretos para fortalecer os argumentos apresentados, o que pode ajudar a criar uma argumentação mais robusta e convincente.',\n",
       "  'competencia_4_grade': 160},\n",
       " {'competencia_5_feedback': 'Proposta de Intervenção Bem Elaborada: A redação apresenta uma proposta de intervenção clara e articulada com a discussão do texto. O autor sugere que o Congresso Nacional crie leis específicas para assegurar a visibilidade do trabalho de cuidado, com regulamentação de direitos trabalhistas para essa categoria. Essa proposta está bem relacionada ao tema e aos problemas discutidos, como a desigualdade social e o patriarcalismo. Detalhamento da Proposta: A proposta poderia ser ainda mais detalhada para alcançar a pontuação máxima. Por exemplo, o autor poderia especificar quais tipos de leis seriam necessárias, como a implementação de políticas de incentivo fiscal para empresas que promovem a igualdade de gênero ou a criação de programas de capacitação para mulheres em situação de vulnerabilidade. Respeito aos Direitos Humanos: A proposta respeita os direitos humanos ao buscar garantir uma vida digna e justa para as mulheres que realizam trabalhos de cuidado. No entanto, poderia incluir mais detalhes sobre como essas leis seriam implementadas na prática, garantindo que as mudanças sejam efetivas e sustentáveis. Viabilidade e Ética: A proposta é viável e ética, mas poderia ser fortalecida com a inclusão de parcerias com organizações não governamentais ou internacionais que já atuam na promoção dos direitos das mulheres, o que poderia aumentar a eficácia das medidas sugeridas. Para melhorar, o autor pode focar em detalhar mais a implementação prática das propostas, incluindo exemplos de políticas públicas bem-sucedidas em outros contextos ou países, e considerar a inclusão de múltiplos agentes sociais na execução das medidas sugeridas.',\n",
       "  'competencia_5_grade': 160}]"
      ]
     },
     "execution_count": 25,
     "metadata": {},
     "output_type": "execute_result"
    }
   ],
   "source": [
    "[x['args'] for x in schema_response.tool_calls]"
   ]
  },
  {
   "cell_type": "code",
   "execution_count": 26,
   "metadata": {},
   "outputs": [],
   "source": [
    "def format_schemas_output(response, schema_response):\n",
    "    \"\"\"Formata a saída dos schemas.\"\"\"\n",
    "    schemas_competencias = [x['args'] for x in schema_response.tool_calls]\n",
    "    raw_feedback = response\n",
    "    return schemas_competencias, {'raw_feedback': raw_feedback}"
   ]
  },
  {
   "cell_type": "code",
   "execution_count": 27,
   "metadata": {},
   "outputs": [
    {
     "data": {
      "text/plain": [
       "([{'competencia_1_feedback': 'Ortografia e Acentuação: O texto apresenta um bom domínio da ortografia e acentuação, sem erros significativos que comprometam a compreensão. No entanto, é importante sempre revisar para evitar deslizes, como a repetição de palavras ou erros de digitação. Concordância Verbal e Nominal: A redação demonstra um bom uso da concordância verbal e nominal. Por exemplo, em \"as mulheres ainda são prejudicadas quanto aos direitos trabalhistas\", a concordância está correta. Continue revisando para garantir que não ocorram erros em frases mais complexas. Regência Verbal e Nominal: A regência está adequada na maior parte do texto. Um exemplo positivo é \"ocasiona na aceitação de trabalhos mal remunerados\", onde a regência está correta. É importante manter a atenção para evitar erros em frases mais longas ou complexas. Pontuação: A pontuação é, em geral, bem utilizada, mas há espaço para melhorias. Por exemplo, a frase \"Dessa forma, é preciso que haja uma mudança cultural no pensamento patriarcal a fim de ampliar a importância desse trabalho de cuidado feminino com o reconhecimento das garantias constitucionais\" poderia ser dividida para melhorar a clareza. Sugestão: \"Dessa forma, é preciso que haja uma mudança cultural no pensamento patriarcal. Isso ampliaria a importância do trabalho de cuidado feminino, com o reconhecimento das garantias constitucionais.\" Estrutura Sintática: A estrutura das frases é clara e bem organizada, mas algumas frases são longas e poderiam ser simplificadas para melhorar a fluidez do texto. Tente dividir frases complexas em sentenças menores para facilitar a leitura e compreensão. Sugestões de Melhoria: Continue revisando o texto para identificar e corrigir possíveis erros de digitação ou repetição de palavras. Pratique a divisão de frases longas em sentenças menores para melhorar a clareza e a fluidez do texto. Mantenha a atenção na regência verbal e nominal, especialmente em frases mais complexas, para garantir a correção gramatical.',\n",
       "   'competencia_1_grade': 160},\n",
       "  {'competencia_2_feedback': 'Compreensão do Tema: A redação demonstra uma compreensão clara e aprofundada do tema proposto, que é a invisibilidade do trabalho de cuidado realizado por mulheres no Brasil. O texto aborda de forma precisa os desafios enfrentados por essas mulheres, como a desigualdade social e o patriarcalismo, que são fatores centrais para a discussão. Desenvolvimento do Texto Dissertativo-Argumentativo: O texto segue a estrutura dissertativo-argumentativa de maneira exemplar, com uma introdução que apresenta a tese, desenvolvimento com argumentação consistente e uma conclusão que propõe uma intervenção. A argumentação é bem distribuída ao longo dos parágrafos, com cada um abordando um aspecto diferente do tema. Repertório Sociocultural: A redação utiliza um repertório sociocultural produtivo, como a referência à obra \"Quarto de Despejo\" de Carolina Maria de Jesus e à Constituição Federal, para embasar os argumentos. Isso demonstra um excelente domínio do tema e enriquece a argumentação. Sugestões de Melhoria: Embora a redação já esteja em um nível muito alto, poderia ser enriquecida ainda mais com a inclusão de dados estatísticos ou estudos recentes que reforcem os argumentos apresentados. Além disso, explorar exemplos de políticas públicas bem-sucedidas em outros países poderia oferecer uma perspectiva comparativa interessante. A redação está muito bem estruturada e desenvolvida, atendendo plenamente aos critérios da competência 2.',\n",
       "   'competencia_2_grade': 200},\n",
       "  {'competencia_3_feedback': 'Seleção e Organização de Informações: A redação apresenta uma seleção clara e organizada de informações, fatos e opiniões pertinentes ao tema proposto. O texto inicia com uma contextualização histórica e social do papel das mulheres no trabalho, o que é relevante para a discussão sobre a invisibilidade do trabalho de cuidado. A menção à obra \"Quarto de Despejo\" de Carolina Maria de Jesus é um exemplo bem escolhido que ilustra a desigualdade social e a invisibilidade enfrentada pelas mulheres, demonstrando uma boa capacidade de relacionar literatura e realidade social. Defesa de Ponto de Vista: O autor defende de forma consistente o ponto de vista de que a desigualdade social e o patriarcalismo são fatores que contribuem para a invisibilidade do trabalho de cuidado realizado por mulheres. A argumentação é clara e bem estruturada, com uma tese explícita e argumentos que a sustentam ao longo do texto. A citação da Constituição Federal reforça a argumentação sobre a necessidade de igualdade de gênero, mostrando uma boa articulação entre os argumentos apresentados. Proposta de Intervenção: A conclusão apresenta uma proposta de intervenção coerente com a argumentação desenvolvida, sugerindo a criação de leis específicas para assegurar a visibilidade e os direitos trabalhistas das mulheres no setor de cuidado. Essa proposta é relevante e demonstra uma compreensão aprofundada do tema, além de estar alinhada com a tese defendida. Sugestões de Melhoria: Embora a redação já esteja bem estruturada, uma sugestão seria aprofundar ainda mais a discussão sobre como as políticas públicas podem ser implementadas na prática, talvez mencionando exemplos de outros países que conseguiram avanços nessa área. Além disso, poderia ser interessante explorar mais a questão do impacto do envelhecimento da população na demanda por trabalho de cuidado, trazendo dados ou previsões que reforcem a urgência da questão.',\n",
       "   'competencia_3_grade': 200},\n",
       "  {'competencia_4_feedback': 'Articulação das ideias: A redação apresenta uma boa articulação das ideias, com o uso de conectivos como \"com efeito\", \"diante desse cenário\", \"nesse sentido\", \"sob essa ótica\", \"outrossim\", e \"dessa forma\". Esses conectivos ajudam a guiar o leitor através do texto e a entender a progressão lógica dos argumentos. No entanto, há espaço para diversificar ainda mais o uso de conectivos e modalizadores para enriquecer a argumentação. Por exemplo, ao invés de \"dessa forma\", poderia ser utilizado \"consequentemente\" ou \"portanto\" para variar o repertório. Coesão textual: A coesão textual é mantida ao longo do texto, mas há algumas repetições que poderiam ser evitadas para melhorar a fluidez. Por exemplo, a expressão \"trabalho de cuidado\" é repetida várias vezes. Poderia ser substituída por sinônimos ou expressões equivalentes, como \"atividades de cuidado\" ou \"tarefas de assistência\", para evitar a repetição e enriquecer o texto. Uso de pronomes e referências: O uso de pronomes e referências está adequado, mas poderia ser aprimorado para evitar repetições desnecessárias. Por exemplo, ao invés de repetir \"mulheres\" várias vezes, poderia ser utilizado \"elas\" ou \"esse grupo\" para referir-se ao mesmo sujeito, mantendo a coesão e evitando a repetição. Sugestões de melhoria: Para alcançar uma nota mais alta, o autor pode: Diversificar ainda mais o uso de conectivos e modalizadores para enriquecer a argumentação. Evitar repetições desnecessárias, utilizando sinônimos ou expressões equivalentes. Melhorar o uso de pronomes e referências para manter a coesão sem repetição excessiva. Incluir mais exemplos ou dados concretos para fortalecer os argumentos apresentados, o que pode ajudar a criar uma argumentação mais robusta e convincente.',\n",
       "   'competencia_4_grade': 160},\n",
       "  {'competencia_5_feedback': 'Proposta de Intervenção Bem Elaborada: A redação apresenta uma proposta de intervenção clara e articulada com a discussão do texto. O autor sugere que o Congresso Nacional crie leis específicas para assegurar a visibilidade do trabalho de cuidado, com regulamentação de direitos trabalhistas para essa categoria. Essa proposta está bem relacionada ao tema e aos problemas discutidos, como a desigualdade social e o patriarcalismo. Detalhamento da Proposta: A proposta poderia ser ainda mais detalhada para alcançar a pontuação máxima. Por exemplo, o autor poderia especificar quais tipos de leis seriam necessárias, como a implementação de políticas de incentivo fiscal para empresas que promovem a igualdade de gênero ou a criação de programas de capacitação para mulheres em situação de vulnerabilidade. Respeito aos Direitos Humanos: A proposta respeita os direitos humanos ao buscar garantir uma vida digna e justa para as mulheres que realizam trabalhos de cuidado. No entanto, poderia incluir mais detalhes sobre como essas leis seriam implementadas na prática, garantindo que as mudanças sejam efetivas e sustentáveis. Viabilidade e Ética: A proposta é viável e ética, mas poderia ser fortalecida com a inclusão de parcerias com organizações não governamentais ou internacionais que já atuam na promoção dos direitos das mulheres, o que poderia aumentar a eficácia das medidas sugeridas. Para melhorar, o autor pode focar em detalhar mais a implementação prática das propostas, incluindo exemplos de políticas públicas bem-sucedidas em outros contextos ou países, e considerar a inclusão de múltiplos agentes sociais na execução das medidas sugeridas.',\n",
       "   'competencia_5_grade': 160}],\n",
       " {'raw_feedback': '## Tema da redação: A invisibilidade do trabalho de cuidado realizado por mulheres no Brasil\\n# Nota total: 880\\n\\n## Competência 1 - Nota: 160\\n\\n- **Ortografia e Acentuação**: O texto apresenta um bom domínio da ortografia e acentuação, sem erros significativos que comprometam a compreensão. No entanto, é importante sempre revisar para evitar deslizes, como a repetição de palavras ou erros de digitação.\\n\\n- **Concordância Verbal e Nominal**: A redação demonstra um bom uso da concordância verbal e nominal. Por exemplo, em \"as mulheres ainda são prejudicadas quanto aos direitos trabalhistas\", a concordância está correta. Continue revisando para garantir que não ocorram erros em frases mais complexas.\\n\\n- **Regência Verbal e Nominal**: A regência está adequada na maior parte do texto. Um exemplo positivo é \"ocasiona na aceitação de trabalhos mal remunerados\", onde a regência está correta. É importante manter a atenção para evitar erros em frases mais longas ou complexas.\\n\\n- **Pontuação**: A pontuação é, em geral, bem utilizada, mas há espaço para melhorias. Por exemplo, a frase \"Dessa forma, é preciso que haja uma mudança cultural no pensamento patriarcal a fim de ampliar a importância desse trabalho de cuidado feminino com o reconhecimento das garantias constitucionais\" poderia ser dividida para melhorar a clareza. Sugestão: \"Dessa forma, é preciso que haja uma mudança cultural no pensamento patriarcal. Isso ampliaria a importância do trabalho de cuidado feminino, com o reconhecimento das garantias constitucionais.\"\\n\\n- **Estrutura Sintática**: A estrutura das frases é clara e bem organizada, mas algumas frases são longas e poderiam ser simplificadas para melhorar a fluidez do texto. Tente dividir frases complexas em sentenças menores para facilitar a leitura e compreensão.\\n\\n- **Sugestões de Melhoria**: \\n  - Continue revisando o texto para identificar e corrigir possíveis erros de digitação ou repetição de palavras.\\n  - Pratique a divisão de frases longas em sentenças menores para melhorar a clareza e a fluidez do texto.\\n  - Mantenha a atenção na regência verbal e nominal, especialmente em frases mais complexas, para garantir a correção gramatical.\\n\\n## Competência 2 - Nota: 200\\n\\n- **Compreensão do Tema**: A redação demonstra uma compreensão clara e aprofundada do tema proposto, que é a invisibilidade do trabalho de cuidado realizado por mulheres no Brasil. O texto aborda de forma precisa os desafios enfrentados por essas mulheres, como a desigualdade social e o patriarcalismo, que são fatores centrais para a discussão.\\n  \\n- **Desenvolvimento do Texto Dissertativo-Argumentativo**: O texto segue a estrutura dissertativo-argumentativa de maneira exemplar, com uma introdução que apresenta a tese, desenvolvimento com argumentação consistente e uma conclusão que propõe uma intervenção. A argumentação é bem distribuída ao longo dos parágrafos, com cada um abordando um aspecto diferente do tema.\\n\\n- **Repertório Sociocultural**: A redação utiliza um repertório sociocultural produtivo, como a referência à obra \"Quarto de Despejo\" de Carolina Maria de Jesus e à Constituição Federal, para embasar os argumentos. Isso demonstra um excelente domínio do tema e enriquece a argumentação.\\n\\n- **Sugestões de Melhoria**: Embora a redação já esteja em um nível muito alto, poderia ser enriquecida ainda mais com a inclusão de dados estatísticos ou estudos recentes que reforcem os argumentos apresentados. Além disso, explorar exemplos de políticas públicas bem-sucedidas em outros países poderia oferecer uma perspectiva comparativa interessante.\\n\\nA redação está muito bem estruturada e desenvolvida, atendendo plenamente aos critérios da competência 2.\\n\\n## Competência 3 - Nota: 200\\n\\n- **Seleção e Organização de Informações**: A redação apresenta uma seleção clara e organizada de informações, fatos e opiniões pertinentes ao tema proposto. O texto inicia com uma contextualização histórica e social do papel das mulheres no trabalho, o que é relevante para a discussão sobre a invisibilidade do trabalho de cuidado. A menção à obra \"Quarto de Despejo\" de Carolina Maria de Jesus é um exemplo bem escolhido que ilustra a desigualdade social e a invisibilidade enfrentada pelas mulheres, demonstrando uma boa capacidade de relacionar literatura e realidade social.\\n\\n- **Defesa de Ponto de Vista**: O autor defende de forma consistente o ponto de vista de que a desigualdade social e o patriarcalismo são fatores que contribuem para a invisibilidade do trabalho de cuidado realizado por mulheres. A argumentação é clara e bem estruturada, com uma tese explícita e argumentos que a sustentam ao longo do texto. A citação da Constituição Federal reforça a argumentação sobre a necessidade de igualdade de gênero, mostrando uma boa articulação entre os argumentos apresentados.\\n\\n- **Proposta de Intervenção**: A conclusão apresenta uma proposta de intervenção coerente com a argumentação desenvolvida, sugerindo a criação de leis específicas para assegurar a visibilidade e os direitos trabalhistas das mulheres no setor de cuidado. Essa proposta é relevante e demonstra uma compreensão aprofundada do tema, além de estar alinhada com a tese defendida.\\n\\n- **Sugestões de Melhoria**: Embora a redação já esteja bem estruturada, uma sugestão seria aprofundar ainda mais a discussão sobre como as políticas públicas podem ser implementadas na prática, talvez mencionando exemplos de outros países que conseguiram avanços nessa área. Além disso, poderia ser interessante explorar mais a questão do impacto do envelhecimento da população na demanda por trabalho de cuidado, trazendo dados ou previsões que reforcem a urgência da questão.\\n\\n## Competência 4 - Nota: 160\\n\\n- **Articulação das ideias**: A redação apresenta uma boa articulação das ideias, com o uso de conectivos como \"com efeito\", \"diante desse cenário\", \"nesse sentido\", \"sob essa ótica\", \"outrossim\", e \"dessa forma\". Esses conectivos ajudam a guiar o leitor através do texto e a entender a progressão lógica dos argumentos. No entanto, há espaço para diversificar ainda mais o uso de conectivos e modalizadores para enriquecer a argumentação. Por exemplo, ao invés de \"dessa forma\", poderia ser utilizado \"consequentemente\" ou \"portanto\" para variar o repertório.\\n  \\n- **Coesão textual**: A coesão textual é mantida ao longo do texto, mas há algumas repetições que poderiam ser evitadas para melhorar a fluidez. Por exemplo, a expressão \"trabalho de cuidado\" é repetida várias vezes. Poderia ser substituída por sinônimos ou expressões equivalentes, como \"atividades de cuidado\" ou \"tarefas de assistência\", para evitar a repetição e enriquecer o texto.\\n\\n- **Uso de pronomes e referências**: O uso de pronomes e referências está adequado, mas poderia ser aprimorado para evitar repetições desnecessárias. Por exemplo, ao invés de repetir \"mulheres\" várias vezes, poderia ser utilizado \"elas\" ou \"esse grupo\" para referir-se ao mesmo sujeito, mantendo a coesão e evitando a repetição.\\n\\n- **Sugestões de melhoria**: Para alcançar uma nota mais alta, o autor pode:\\n  - Diversificar ainda mais o uso de conectivos e modalizadores para enriquecer a argumentação.\\n  - Evitar repetições desnecessárias, utilizando sinônimos ou expressões equivalentes.\\n  - Melhorar o uso de pronomes e referências para manter a coesão sem repetição excessiva.\\n  - Incluir mais exemplos ou dados concretos para fortalecer os argumentos apresentados, o que pode ajudar a criar uma argumentação mais robusta e convincente.\\n\\n## Competência 5 - Nota: 160\\n\\n- **Proposta de Intervenção Bem Elaborada**: A redação apresenta uma proposta de intervenção clara e articulada com a discussão do texto. O autor sugere que o Congresso Nacional crie leis específicas para assegurar a visibilidade do trabalho de cuidado, com regulamentação de direitos trabalhistas para essa categoria. Essa proposta está bem relacionada ao tema e aos problemas discutidos, como a desigualdade social e o patriarcalismo.\\n\\n- **Detalhamento da Proposta**: A proposta poderia ser ainda mais detalhada para alcançar a pontuação máxima. Por exemplo, o autor poderia especificar quais tipos de leis seriam necessárias, como a implementação de políticas de incentivo fiscal para empresas que promovem a igualdade de gênero ou a criação de programas de capacitação para mulheres em situação de vulnerabilidade.\\n\\n- **Respeito aos Direitos Humanos**: A proposta respeita os direitos humanos ao buscar garantir uma vida digna e justa para as mulheres que realizam trabalhos de cuidado. No entanto, poderia incluir mais detalhes sobre como essas leis seriam implementadas na prática, garantindo que as mudanças sejam efetivas e sustentáveis.\\n\\n- **Viabilidade e Ética**: A proposta é viável e ética, mas poderia ser fortalecida com a inclusão de parcerias com organizações não governamentais ou internacionais que já atuam na promoção dos direitos das mulheres, o que poderia aumentar a eficácia das medidas sugeridas.\\n\\nPara melhorar, o autor pode focar em detalhar mais a implementação prática das propostas, incluindo exemplos de políticas públicas bem-sucedidas em outros contextos ou países, e considerar a inclusão de múltiplos agentes sociais na execução das medidas sugeridas.'})"
      ]
     },
     "execution_count": 27,
     "metadata": {},
     "output_type": "execute_result"
    }
   ],
   "source": [
    "format_schemas_output(response, schema_response)"
   ]
  },
  {
   "cell_type": "code",
   "execution_count": null,
   "metadata": {},
   "outputs": [],
   "source": [
    "# def get_parse_md(path: str) -> str:\n",
    "#     \"\"\"Faz o parse de uma imagem de redação.\"\"\"\n",
    "#     remoteFile = urlopen(Request(path)).read()\n",
    "#     memoryFile = BytesIO(remoteFile)\n",
    "    \n",
    "#     image = Image.open(memoryFile)\n",
    "#     image.save(\"./temp/temp_img_essay.png\", \"PNG\")\n",
    "    \n",
    "#     llamaparse = LlamaParse(premium_mode=True)\n",
    "#     parsed_result = llamaparse.get_json_result(\"./temp/temp_img_essay.png\")\n",
    "#     try:\n",
    "#         return parsed_result[0]['pages'][0]['md']\n",
    "#     except:\n",
    "#         return \"Erro ao fazer o parse da imagem.\"\n"
   ]
  },
  {
   "cell_type": "code",
   "execution_count": 1,
   "metadata": {},
   "outputs": [],
   "source": [
    "from services.parse import *"
   ]
  },
  {
   "cell_type": "code",
   "execution_count": 2,
   "metadata": {},
   "outputs": [
    {
     "name": "stdout",
     "output_type": "stream",
     "text": [
      "Started parsing the file under job_id d397df37-df17-46df-8495-3a62a7cef399\n"
     ]
    },
    {
     "data": {
      "text/plain": [
       "'# FOLHA DE REDAÇÃO\\nEXAME NACIONAL DO ENSINO MÉDIO - ENEM 2023\\n\\n**Número de Inscrição:** 231005093712'"
      ]
     },
     "execution_count": 2,
     "metadata": {},
     "output_type": "execute_result"
    }
   ],
   "source": [
    "get_parse_md(\"https://fly.storage.tigris.dev/essays/redacao_1.jpg\")[:100]"
   ]
  },
  {
   "cell_type": "code",
   "execution_count": null,
   "metadata": {},
   "outputs": [],
   "source": []
  },
  {
   "cell_type": "code",
   "execution_count": null,
   "metadata": {},
   "outputs": [],
   "source": []
  }
 ],
 "metadata": {
  "kernelspec": {
   "display_name": "env",
   "language": "python",
   "name": "python3"
  },
  "language_info": {
   "codemirror_mode": {
    "name": "ipython",
    "version": 3
   },
   "file_extension": ".py",
   "mimetype": "text/x-python",
   "name": "python",
   "nbconvert_exporter": "python",
   "pygments_lexer": "ipython3",
   "version": "3.10.11"
  }
 },
 "nbformat": 4,
 "nbformat_minor": 2
}
