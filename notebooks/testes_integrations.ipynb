{
 "cells": [
  {
   "cell_type": "code",
   "execution_count": 1,
   "metadata": {},
   "outputs": [],
   "source": [
    "from services.essay import *\n",
    "from services.parse import *\n",
    "from utils import *"
   ]
  },
  {
   "cell_type": "code",
   "execution_count": 8,
   "metadata": {},
   "outputs": [
    {
     "name": "stdout",
     "output_type": "stream",
     "text": [
      "Started parsing the file under job_id cbdcc7ad-16ad-40b3-9d34-1f20492cd97b\n"
     ]
    }
   ],
   "source": [
    "path = \"https://fly.storage.tigris.dev/essays/redacao_1.jpg\"\n",
    "content_md = get_parse_md(path)\n",
    "tema = \"Legalização das drogas no Brasil\""
   ]
  },
  {
   "cell_type": "code",
   "execution_count": 9,
   "metadata": {},
   "outputs": [],
   "source": [
    "chain_essay_md = get_chain_feedback_essay(model='groq')"
   ]
  },
  {
   "cell_type": "code",
   "execution_count": 10,
   "metadata": {},
   "outputs": [],
   "source": [
    "\n",
    "chain_essay_schema = get_chain_schema_feedback_essay()"
   ]
  },
  {
   "cell_type": "code",
   "execution_count": 11,
   "metadata": {},
   "outputs": [],
   "source": [
    "response_essay = chain_essay_md.invoke({\"texto\": content_md,\n",
    "                                        \"tema\": tema})"
   ]
  },
  {
   "cell_type": "code",
   "execution_count": 12,
   "metadata": {},
   "outputs": [],
   "source": [
    "response_schema_essay = chain_essay_schema.invoke({\"document\": response_essay})"
   ]
  },
  {
   "cell_type": "code",
   "execution_count": 13,
   "metadata": {},
   "outputs": [
    {
     "data": {
      "text/plain": [
       "[{'competencia_1_feedback': 'A redação apresenta um bom domínio da modalidade escrita formal da Língua Portuguesa, com poucos desvios gramaticais e de convenções da escrita. No entanto, há alguns desvios leves de gramática e convenções de escrita que não comprometem o sentido do texto. Exemplo: \"Historicamente, o mundo do trabalho foi dominado pelos homens, restando para as mulheres, principalmente o trabalho doméstico e de cuidado com a família.\" - A frase está correta, mas poderia ser reescrita para evitar a repetição do termo \"trabalho\". Exemplo: \"Com efeito, no Brasil não foi diferente, e, ainda hoje, existem desafios que precisam ser enfrentados para reduzir a invisibilidade do trabalho de cuidado realizado pela mulher no país uma vez que esse grupo da sociedade permanece em situação de exclusão e subserviência no mercado trabalhista.\" - A frase é longa e poderia ser dividida em duas para melhorar a clareza. Exemplo: \"Sob essa ótica, percebe-se que a desigualdade social gerada pela ausência do amparo estatal para as camadas mais pobres da população ocasiona na aceitação de trabalhos mal remunerados e informais, principalmente pelas mulheres.\" - A frase está correta, mas poderia ser reescrita para evitar a repetição do termo \"sociedade\". Para melhorar, o aluno pode: Revisar a redação para evitar repetições e frases longas. Utilizar sinônimos para variar o vocabulário. Verificar a concordância verbal e nominal em todas as frases. Utilizar pontuação correta para separar as ideias. Em geral, a redação apresenta um bom nível de escrita formal, mas pode ser melhorada com revisões e ajustes para evitar desvios gramaticais e de convenções da escrita.',\n",
       "  'competencia_1_grade': 160,\n",
       "  'competencia_2_feedback': 'A redação desenvolve o tema por meio de argumentação consistente e apresenta bom domínio do texto dissertativo-argumentativo, com proposição, argumentação e conclusão. No entanto, os argumentos não são bem desenvolvidos e não se limitam à reprodução das ideias dos textos motivadores nem se restringem a questões do senso comum. Justificativas e sugestões de melhoria: A introdução é clara e apresenta a tese de forma explícita, destacando a importância de compreender as causas da invisibilidade do trabalho de cuidado realizado pela mulher no Brasil. A argumentação é consistente e apresenta dois fatores principais que contribuem para essa problemática: a desigualdade social e o patriarcalismo enraizado na sociedade. A utilização de exemplos e referências literárias, como a obra de Carolina Maria de Jesus, é uma boa estratégia para ilustrar a desigualdade social e a invisibilidade do trabalho de cuidado. No entanto, a argumentação poderia ser mais desenvolvida e apresentar mais exemplos e dados para reforçar a tese. A conclusão é clara e apresenta uma proposta de solução para o problema, destacando a importância de políticas públicas que reconheçam a importância do trabalho de cuidado e tragam garantias para essa atividade. Uma sugestão de melhoria seria apresentar mais detalhes sobre como essas políticas públicas poderiam ser implementadas e quais seriam os benefícios para as mulheres que realizam o trabalho de cuidado. Além disso, seria interessante explorar mais a relação entre a desigualdade social e o patriarcalismo enraizado na sociedade, e como esses fatores se interseccionam e reforçam a invisibilidade do trabalho de cuidado realizado pela mulher no Brasil. Exemplos de como melhorar a argumentação: Em vez de apenas citar a Constituição Federal, poderia ser apresentado um exemplo concreto de como a desconstrução da cultura de inferioridade feminina poderia ser implementada em uma política pública. Poderia ser apresentado um estudo de caso de um país que já implementou políticas públicas para reconhecer a importância do trabalho de cuidado e como isso afetou a vida das mulheres que realizam esse trabalho. Poderia ser explorada a relação entre a desigualdade social e o patriarcalismo enraizado na sociedade, e como esses fatores se interseccionam e reforçam a invisibilidade do trabalho de cuidado realizado pela mulher no Brasil.',\n",
       "  'competencia_2_grade': 160,\n",
       "  'competencia_3_feedback': 'A redação apresenta uma boa capacidade de selecionar, relacionar, organizar e interpretar informações, fatos, opiniões e argumentos em defesa de um ponto de vista. O texto aborda o tema da invisibilidade do trabalho de cuidado realizado pela mulher no Brasil, destacando as causas desse viés, como a desigualdade social e o patriarcalismo enraizado na sociedade. O texto apresenta uma boa estrutura, com uma introdução que contextualiza o tema, seguida de uma análise das causas do problema e, por fim, uma conclusão que apresenta soluções para o problema. O autor utiliza exemplos e referências bibliográficas para sustentar seus argumentos, como a obra de Carolina Maria de Jesus, \"Quarto de Despejo\", e a Constituição Federal. O texto também apresenta uma boa capacidade de relacionar as informações e argumentos, demonstrando uma compreensão clara do tema. No entanto, há alguns pontos que podem ser melhorados: Em alguns momentos, o texto apresenta frases longas e complexas que podem dificultar a compreensão do leitor. É importante trabalhar para simplificar a linguagem e torná-la mais acessível. Além disso, o texto poderia beneficiar-se de uma maior variedade de exemplos e referências para sustentar os argumentos. Isso ajudaria a tornar o texto mais convincente e interessante. Por fim, é importante trabalhar para tornar a conclusão mais forte e convincente. O texto apresenta algumas soluções para o problema, mas é importante desenvolver essas ideias de forma mais detalhada e convincente. Para melhorar, o autor pode: Trabalhar para simplificar a linguagem e torná-la mais acessível. Buscar mais exemplos e referências para sustentar os argumentos. Desenvolver as ideias apresentadas na conclusão de forma mais detalhada e convincente.',\n",
       "  'competencia_3_grade': 160,\n",
       "  'competencia_4_feedback': 'A redação apresenta uma boa articulação das partes do texto, com poucas inadequações na utilização de recursos coesivos. O autor consegue estabelecer uma estrutura lógica e coerente, utilizando conectivos e operadores argumentativos de forma eficaz. Exemplo: \"Diante desse cenário, é fundamental compreender as causas desse viés, dentre as quais a desigualdade social e o patriarcalismo enraizado na sociedade.\" (utilização de conectivo \"diante desse cenário\" para introduzir a ideia principal) Exemplo: \"Sob essa ótica, percebe-se que a desigualdade social gerada pela ausência do amparo estatal para as camadas mais pobres da população ocasiona na aceitação de trabalhos mal remunerados e informais, principalmente pelas mulheres.\" (utilização de conectivo \"sob essa ótica\" para estabelecer uma relação de causa e efeito) No entanto, há algumas inadequações na utilização de recursos coesivos, como: Repetição desnecessária de palavras: \"trabalho de cuidado\" é repetido várias vezes ao longo do texto, o que pode ser evitado com a utilização de sinônimos ou expressões alternativas. Falta de variedade nos conectivos: o autor utiliza principalmente conectivos como \"diante desse cenário\" e \"sob essa ótica\", o que pode ser variado com a utilização de outros conectivos, como \"além disso\", \"por outro lado\", etc. Para melhorar, o autor pode: Utilizar sinônimos e expressões alternativas para evitar a repetição desnecessária de palavras. Variedade nos conectivos para estabelecer relações mais complexas e interessantes entre as ideias. Utilizar operadores argumentativos, como \"no entanto\", \"por outro lado\", para estabelecer contrapontos e nuances nas ideias apresentadas.',\n",
       "  'competencia_4_grade': 160,\n",
       "  'competencia_5_feedback': 'A proposta de intervenção apresentada pelo candidato é bem elaborada e relacionada ao tema, articulada à discussão do texto. O candidato propõe que o Congresso Nacional elabore leis específicas para assegurar a visibilidade do trabalho de cuidado exercente no país, com a regulamentação de direitos trabalhistas para essa categoria. Essa proposta é viável e ética, pois busca garantir direitos trabalhistas para as mulheres que realizam trabalho de cuidado, promovendo uma vida digna e justa. No entanto, a proposta poderia ser mais detalhada e específica. Por exemplo, o candidato poderia sugerir a criação de um programa de apoio às trabalhadoras de cuidado, com a oferta de treinamento e capacitação para melhorar suas habilidades e conhecimentos. Além disso, o candidato poderia propor a criação de um sistema de registro e monitoramento do trabalho de cuidado, para garantir que as trabalhadoras sejam reconhecidas e valorizadas. Para melhorar, o candidato poderia: Ser mais específico sobre as leis e políticas que precisam ser criadas para garantir a visibilidade do trabalho de cuidado. Propor a criação de programas e iniciativas que apoiem as trabalhadoras de cuidado, como treinamento e capacitação. Sugerir a criação de um sistema de registro e monitoramento do trabalho de cuidado, para garantir que as trabalhadoras sejam reconhecidas e valorizadas. Considerar a importância da participação da sociedade civil e das organizações de mulheres na elaboração e implementação dessas políticas. Exemplo de como a proposta poderia ser mais detalhada: \"Para solucionar o problema da invisibilidade do trabalho de cuidado realizado pela mulher no Brasil, é fundamental que o Congresso Nacional elabore leis específicas que assegurem a visibilidade desse trabalho. Além disso, é necessário criar programas de apoio às trabalhadoras de cuidado, como treinamento e capacitação, para melhorar suas habilidades e conhecimentos. Também é importante criar um sistema de registro e monitoramento do trabalho de cuidado, para garantir que as trabalhadoras sejam reconhecidas e valorizadas. Isso pode ser feito em parceria com as organizações de mulheres e a sociedade civil, para garantir que as políticas sejam eficazes e justas.\"',\n",
       "  'competencia_5_grade': 160},\n",
       " {'id_essay': 1},\n",
       " {'raw_feedback': '## Tema da redação: A invisibilidade do trabalho de cuidado realizado pela mulher no Brasil\\n\\n## Nota total: 800\\n\\n## Competência 1 - Nota: 160\\n\\nA redação apresenta um bom domínio da modalidade escrita formal da Língua Portuguesa, com poucos desvios gramaticais e de convenções da escrita. No entanto, há alguns desvios leves de gramática e convenções de escrita que não comprometem o sentido do texto.\\n\\n*   Exemplo: \"Historicamente, o mundo do trabalho foi dominado pelos homens, restando para as mulheres, principalmente o trabalho doméstico e de cuidado com a família.\" - A frase está correta, mas poderia ser reescrita para evitar a repetição do termo \"trabalho\".\\n*   Exemplo: \"Com efeito, no Brasil não foi diferente, e, ainda hoje, existem desafios que precisam ser enfrentados para reduzir a invisibilidade do trabalho de cuidado realizado pela mulher no país uma vez que esse grupo da sociedade permanece em situação de exclusão e subserviência no mercado trabalhista.\" - A frase é longa e poderia ser dividida em duas para melhorar a clareza.\\n*   Exemplo: \"Sob essa ótica, percebe-se que a desigualdade social gerada pela ausência do amparo estatal para as camadas mais pobres da população ocasiona na aceitação de trabalhos mal remunerados e informais, principalmente pelas mulheres.\" - A frase está correta, mas poderia ser reescrita para evitar a repetição do termo \"sociedade\".\\n\\nPara melhorar, o aluno pode:\\n\\n*   Revisar a redação para evitar repetições e frases longas.\\n*   Utilizar sinônimos para variar o vocabulário.\\n*   Verificar a concordância verbal e nominal em todas as frases.\\n*   Utilizar pontuação correta para separar as ideias.\\n\\nEm geral, a redação apresenta um bom nível de escrita formal, mas pode ser melhorada com revisões e ajustes para evitar desvios gramaticais e de convenções da escrita.\\n\\n## Competência 2 - Nota: 160\\n\\nA redação desenvolve o tema por meio de argumentação consistente e apresenta bom domínio do texto dissertativo-argumentativo, com proposição, argumentação e conclusão. No entanto, os argumentos não são bem desenvolvidos e não se limitam à reprodução das ideias dos textos motivadores nem se restringem a questões do senso comum.\\n\\nJustificativas e sugestões de melhoria:\\n\\n* A introdução é clara e apresenta a tese de forma explícita, destacando a importância de compreender as causas da invisibilidade do trabalho de cuidado realizado pela mulher no Brasil.\\n* A argumentação é consistente e apresenta dois fatores principais que contribuem para essa problemática: a desigualdade social e o patriarcalismo enraizado na sociedade.\\n* A utilização de exemplos e referências literárias, como a obra de Carolina Maria de Jesus, é uma boa estratégia para ilustrar a desigualdade social e a invisibilidade do trabalho de cuidado.\\n* No entanto, a argumentação poderia ser mais desenvolvida e apresentar mais exemplos e dados para reforçar a tese.\\n* A conclusão é clara e apresenta uma proposta de solução para o problema, destacando a importância de políticas públicas que reconheçam a importância do trabalho de cuidado e tragam garantias para essa atividade.\\n* Uma sugestão de melhoria seria apresentar mais detalhes sobre como essas políticas públicas poderiam ser implementadas e quais seriam os benefícios para as mulheres que realizam o trabalho de cuidado.\\n* Além disso, seria interessante explorar mais a relação entre a desigualdade social e o patriarcalismo enraizado na sociedade, e como esses fatores se interseccionam e reforçam a invisibilidade do trabalho de cuidado realizado pela mulher no Brasil.\\n\\nExemplos de como melhorar a argumentação:\\n\\n* Em vez de apenas citar a Constituição Federal, poderia ser apresentado um exemplo concreto de como a desconstrução da cultura de inferioridade feminina poderia ser implementada em uma política pública.\\n* Poderia ser apresentado um estudo de caso de um país que já implementou políticas públicas para reconhecer a importância do trabalho de cuidado e como isso afetou a vida das mulheres que realizam esse trabalho.\\n* Poderia ser explorada a relação entre a desigualdade social e o patriarcalismo enraizado na sociedade, e como esses fatores se interseccionam e reforçam a invisibilidade do trabalho de cuidado realizado pela mulher no Brasil.\\n\\n## Competência 3 - Nota: 160\\n\\nA redação apresenta uma boa capacidade de selecionar, relacionar, organizar e interpretar informações, fatos, opiniões e argumentos em defesa de um ponto de vista. O texto aborda o tema da invisibilidade do trabalho de cuidado realizado pela mulher no Brasil, destacando as causas desse viés, como a desigualdade social e o patriarcalismo enraizado na sociedade.\\n\\n*   O texto apresenta uma boa estrutura, com uma introdução que contextualiza o tema, seguida de uma análise das causas do problema e, por fim, uma conclusão que apresenta soluções para o problema.\\n*   O autor utiliza exemplos e referências bibliográficas para sustentar seus argumentos, como a obra de Carolina Maria de Jesus, \"Quarto de Despejo\", e a Constituição Federal.\\n*   O texto também apresenta uma boa capacidade de relacionar as informações e argumentos, demonstrando uma compreensão clara do tema.\\n\\nNo entanto, há alguns pontos que podem ser melhorados:\\n\\n*   Em alguns momentos, o texto apresenta frases longas e complexas que podem dificultar a compreensão do leitor. É importante trabalhar para simplificar a linguagem e torná-la mais acessível.\\n*   Além disso, o texto poderia beneficiar-se de uma maior variedade de exemplos e referências para sustentar os argumentos. Isso ajudaria a tornar o texto mais convincente e interessante.\\n*   Por fim, é importante trabalhar para tornar a conclusão mais forte e convincente. O texto apresenta algumas soluções para o problema, mas é importante desenvolver essas ideias de forma mais detalhada e convincente.\\n\\nPara melhorar, o autor pode:\\n\\n*   Trabalhar para simplificar a linguagem e torná-la mais acessível.\\n*   Buscar mais exemplos e referências para sustentar os argumentos.\\n*   Desenvolver as ideias apresentadas na conclusão de forma mais detalhada e convincente.\\n\\n## Competência 4 - Nota: 160\\n\\nA redação apresenta uma boa articulação das partes do texto, com poucas inadequações na utilização de recursos coesivos. O autor consegue estabelecer uma estrutura lógica e coerente, utilizando conectivos e operadores argumentativos de forma eficaz.\\n\\n*   Exemplo: \"Diante desse cenário, é fundamental compreender as causas desse viés, dentre as quais a desigualdade social e o patriarcalismo enraizado na sociedade.\" (utilização de conectivo \"diante desse cenário\" para introduzir a ideia principal)\\n*   Exemplo: \"Sob essa ótica, percebe-se que a desigualdade social gerada pela ausência do amparo estatal para as camadas mais pobres da população ocasiona na aceitação de trabalhos mal remunerados e informais, principalmente pelas mulheres.\" (utilização de conectivo \"sob essa ótica\" para estabelecer uma relação de causa e efeito)\\n\\nNo entanto, há algumas inadequações na utilização de recursos coesivos, como:\\n\\n*   Repetição desnecessária de palavras: \"trabalho de cuidado\" é repetido várias vezes ao longo do texto, o que pode ser evitado com a utilização de sinônimos ou expressões alternativas.\\n*   Falta de variedade nos conectivos: o autor utiliza principalmente conectivos como \"diante desse cenário\" e \"sob essa ótica\", o que pode ser variado com a utilização de outros conectivos, como \"além disso\", \"por outro lado\", etc.\\n\\nPara melhorar, o autor pode:\\n\\n*   Utilizar sinônimos e expressões alternativas para evitar a repetição desnecessária de palavras.\\n*   Variedade nos conectivos para estabelecer relações mais complexas e interessantes entre as ideias.\\n*   Utilizar operadores argumentativos, como \"no entanto\", \"por outro lado\", para estabelecer contrapontos e nuances nas ideias apresentadas.\\n\\n## Competência 5 - Nota: 160\\n\\nA proposta de intervenção apresentada pelo candidato é bem elaborada e relacionada ao tema, articulada à discussão do texto. O candidato propõe que o Congresso Nacional elabore leis específicas para assegurar a visibilidade do trabalho de cuidado exercente no país, com a regulamentação de direitos trabalhistas para essa categoria. Essa proposta é viável e ética, pois busca garantir direitos trabalhistas para as mulheres que realizam trabalho de cuidado, promovendo uma vida digna e justa.\\n\\nNo entanto, a proposta poderia ser mais detalhada e específica. Por exemplo, o candidato poderia sugerir a criação de um programa de apoio às trabalhadoras de cuidado, com a oferta de treinamento e capacitação para melhorar suas habilidades e conhecimentos. Além disso, o candidato poderia propor a criação de um sistema de registro e monitoramento do trabalho de cuidado, para garantir que as trabalhadoras sejam reconhecidas e valorizadas.\\n\\nPara melhorar, o candidato poderia:\\n\\n*   Ser mais específico sobre as leis e políticas que precisam ser criadas para garantir a visibilidade do trabalho de cuidado.\\n*   Propor a criação de programas e iniciativas que apoiem as trabalhadoras de cuidado, como treinamento e capacitação.\\n*   Sugerir a criação de um sistema de registro e monitoramento do trabalho de cuidado, para garantir que as trabalhadoras sejam reconhecidas e valorizadas.\\n*   Considerar a importância da participação da sociedade civil e das organizações de mulheres na elaboração e implementação dessas políticas.\\n\\nExemplo de como a proposta poderia ser mais detalhada:\\n\\n\"Para solucionar o problema da invisibilidade do trabalho de cuidado realizado pela mulher no Brasil, é fundamental que o Congresso Nacional elabore leis específicas que assegurem a visibilidade desse trabalho. Além disso, é necessário criar programas de apoio às trabalhadoras de cuidado, como treinamento e capacitação, para melhorar suas habilidades e conhecimentos. Também é importante criar um sistema de registro e monitoramento do trabalho de cuidado, para garantir que as trabalhadoras sejam reconhecidas e valorizadas. Isso pode ser feito em parceria com as organizações de mulheres e a sociedade civil, para garantir que as políticas sejam eficazes e justas.\"'}]"
      ]
     },
     "execution_count": 13,
     "metadata": {},
     "output_type": "execute_result"
    }
   ],
   "source": [
    "format_schemas_output(response_essay, response_schema_essay, 1)"
   ]
  },
  {
   "cell_type": "code",
   "execution_count": null,
   "metadata": {},
   "outputs": [],
   "source": []
  },
  {
   "cell_type": "code",
   "execution_count": null,
   "metadata": {},
   "outputs": [],
   "source": []
  },
  {
   "cell_type": "code",
   "execution_count": null,
   "metadata": {},
   "outputs": [],
   "source": []
  },
  {
   "cell_type": "code",
   "execution_count": null,
   "metadata": {},
   "outputs": [],
   "source": []
  }
 ],
 "metadata": {
  "kernelspec": {
   "display_name": "env",
   "language": "python",
   "name": "python3"
  },
  "language_info": {
   "codemirror_mode": {
    "name": "ipython",
    "version": 3
   },
   "file_extension": ".py",
   "mimetype": "text/x-python",
   "name": "python",
   "nbconvert_exporter": "python",
   "pygments_lexer": "ipython3",
   "version": "3.10.11"
  }
 },
 "nbformat": 4,
 "nbformat_minor": 2
}
