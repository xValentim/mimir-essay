{
 "cells": [
  {
   "cell_type": "code",

   "execution_count": 60,
   "metadata": {},
   "outputs": [],
   "source": [
    "import streamlit as st\n",
    "from streamlit import session_state as ss\n",
    "from langchain_core.runnables import RunnableParallel\n",
    "\n",
    "from dotenv import load_dotenv\n",
    "from langchain_core.prompts import ChatPromptTemplate\n",
    "from langchain_core.output_parsers import StrOutputParser\n",
    "from langchain_openai import ChatOpenAI, OpenAIEmbeddings\n",
    "from langchain_groq import ChatGroq\n",
    "from langchain_core.runnables import RunnablePassthrough, RunnableLambda\n",
    "from langchain_core.messages import SystemMessage, HumanMessage, AIMessage\n",
    "\n",
    "from langchain_mongodb import MongoDBAtlasVectorSearch\n",
    "from langchain_pinecone import PineconeVectorStore\n",
    "from pymongo import MongoClient\n",
    "import os\n",
    "\n",
    "load_dotenv()\n",
    "\n",
    "def vector_db():\n",
    "    index_name = os.getenv(\"PINECONE_INDEX_NAME\")\n",
    "    embeddings_size = 3072\n",
    "    embeddings_model = 'text-embedding-3-large'\n",
    "    embeddings = OpenAIEmbeddings(model=embeddings_model, dimensions=embeddings_size)\n",
    "    vectorstore = PineconeVectorStore(index_name=index_name, embedding=embeddings)\n",
    "    return vectorstore\n",
    "\n",
    "def vector_db_simu():\n",
    "    MONGODB_ATLAS_CLUSTER_URI = os.getenv('MONGODB_URI')\n",
    "    client = MongoClient(MONGODB_ATLAS_CLUSTER_URI)\n",
    "    DB_NAME = os.getenv(\"DB_NAME\")\n",
    "    COLLECTION_NAME = os.getenv(\"COLLECTION_NAME\")\n",
    "    embeddings_model = 'text-embedding-3-large'\n",
    "    ATLAS_VECTOR_SEARCH_INDEX_NAME = os.getenv(\"ATLAS_VECTOR_SEARCH_INDEX_NAME\")\n",
    "    MONGODB_COLLECTION = client[DB_NAME][COLLECTION_NAME]\n",
    "    vectorstore = MongoDBAtlasVectorSearch(\n",
    "        embedding=OpenAIEmbeddings(model=embeddings_model,\n",
    "                                   dimensions=1536),\n",
    "        collection=MONGODB_COLLECTION,\n",
    "        index_name=ATLAS_VECTOR_SEARCH_INDEX_NAME,\n",
    "    )\n",
    "    return vectorstore"
   ]
  },
  {
   "cell_type": "code",

   "execution_count": 61,
   "metadata": {},
   "outputs": [],
   "source": [
    "vdb_simu = vector_db_simu()\n",
    "vdb = vector_db()"
   ]
  },
  {
   "cell_type": "code",

   "execution_count": 62,

   "metadata": {},
   "outputs": [],
   "source": [
    "retriever_simu = vdb_simu.as_retriever(search_type=\"similarity\", search_kwargs={\"k\": 3})\n",
    "retriever = vdb.as_retriever(search_type=\"similarity\", search_kwargs={\"k\": 3})"
   ]
  },
  {
   "cell_type": "code",

   "execution_count": 63,

   "metadata": {},
   "outputs": [],
   "source": [
    "def format_docs(docs):\n",
    "    return \"\\n\\n\".join([d.page_content for d in docs])\n",
    "\n",
    "def format_questoes(questoes):\n",
    "    return \"\\n\\n\".join([tema for tema in questoes])"
   ]
  },
  {
   "cell_type": "code",
   "execution_count": null,
   "metadata": {},
   "outputs": [],
   "source": [
    "def get_chain_mock(model=\"openai\"):\n",
    "    \n",
    "    if model == \"openai\":\n",
    "        _chat_ = ChatOpenAI\n",
    "        _model_name_ = \"gpt-4o-2024-08-06\"\n",
    "    elif model == \"groq\":\n",
    "        _chat_ = ChatGroq\n",
    "        _model_name_ = \"llama-3.2-90b-text-preview\"\n",
    "    \n",
    "    template = \"\"\"\n",
    "    Você é um assistente de modelo de linguagem de IA que irá gerar simulados. Sua tarefa é separar cada uma das matérias ou temas\n",
    "    que o usuário deseja estudar e gerar uma curta query descrevendo o temas, para facilitar a busca por similaridade.\n",
    "    A entrada do usuário pode ter uma ou mais matérias ou temas.\n",
    "    Forneça esses temas/matérias separados por novas linhas, no formato:\n",
    "    - Tema1: Descricao do tema1\n",
    "    - Tema2: Descricao do tema2\n",
    "    e assim por diante.\n",
    "    Separe os temas em: {user_query}\"\"\"\n",
    "    \n",
    "    template_1 = [\n",
    "        ('system', \"\"\"\n",
    "                    Você é um bot chamado Edu e foi desenvolvido pela Nero.AI. \n",
    "                    Você irá gerar questões para compor um simulado do ENEM.\"\"\"),\n",
    "        ('system', \"Use essas questões como exemplo de estrutura de questão\\n\\n{context_query_simu}\\n\\n\"),\n",
    "        ('system', \"Use esses documentos para embasar o conteúdo das questões\\n\\n{context_query_video}\\n\\n\"),\n",
    "        ('system', \"Não crie questões unicamente objetivas, como 'O que é?', 'Quem foi?', contextualize breventemente o tema e crie questões que exijam raciocínio.\"),\n",
    "        ('system', \"\"\"Forneça essas perguntas alternativas separadas por novas linhas. \\n:\n",
    "            Siga a estrutura usando markdown:\n",
    "            Tema: (tema_questao)\\n\n",
    "         \n",
    "            QUESTÃO 1: (questao_1)\\n\n",
    "            a) alternativa 1\n",
    "            b) alternativa 2\n",
    "            c) alternativa 3\n",
    "            d) alternativa 4\n",
    "            e) alternativa 5\n",
    "\n",
    "            QUESTÃO 2: (questao_2)\n",
    "            a) alternativa 1\n",
    "            b) alternativa 2\n",
    "            c) alternativa 3\n",
    "            d) alternativa 4\n",
    "            e) alternativa 5\n",
    "\n",
    "        e assim por diante.\n",
    "            Gabarito: 1 - (letra correspondente a alternativa)\\n\n",
    "                      2 - (letra correspondente a alternativa)\\n\n",
    "        e assim por diante.\n",
    "        \"\"\"),\n",
    "        ('system', \"Gere apenas 5 questões sobre o tema: {tema_questao}\"),\n",
    "    ]\n",
    "    \n",
    "    prompt1 = ChatPromptTemplate.from_messages(template_1)\n",
    "    \n",
    "    prompt = ChatPromptTemplate.from_template(template)\n",
    "\n",
    "    llm = _chat_(temperature=0.1, model=_model_name_)\n",
    "\n",
    "    generate_temas = (\n",
    "        prompt\n",
    "        | llm\n",
    "        | StrOutputParser()\n",
    "        | (lambda x: x.split(\"\\n\"))\n",
    "    )\n",
    "\n",
    "    chain_rag_simu = retriever_simu | format_docs\n",
    "    chain_rag_video = retriever | format_docs\n",
    "\n",
    "    chain_rag = (\n",
    "        {\n",
    "            \"context_query_simu\": RunnablePassthrough() | chain_rag_simu,\n",
    "            \"context_query_video\": RunnablePassthrough() | chain_rag_video,\n",
    "            \"tema_questao\": RunnablePassthrough()\n",
    "        }\n",
    "        | prompt1\n",
    "        | llm\n",
    "        | StrOutputParser()\n",
    "    )\n",
    "    \n",
    "    chain = generate_temas | chain_rag.map() | format_questoes | StrOutputParser()\n",
    "    \n",
    "    return chain"
   ]
  },
  {
   "cell_type": "code",

   "execution_count": 65,

   "metadata": {},
   "outputs": [],
   "source": [
    "chain = get_chain_mock(model=\"groq\")"
   ]
  },
  {
   "cell_type": "code",

   "execution_count": 66,

   "metadata": {},
   "outputs": [],
   "source": [
    "response_simulado = chain.invoke({\"user_query\": user_query})"
   ]
  },
  {
   "cell_type": "code",

   "execution_count": 67,

   "metadata": {},
   "outputs": [
    {
     "name": "stdout",
     "output_type": "stream",
     "text": [
      "Tema: História do Brasil: Estudo da evolução política, social e econômica do Brasil desde a colonização portuguesa até os dias atuais.\n",
      "\n",
      "QUESTÃO 1: Qual foi o principal motivo para a colonização portuguesa no Brasil durante o século XVI?\n",
      "\n",
      "a) A busca por ouro e prata\n",

      "b) A expansão do cristianismo\n",
      "c) A exploração da cana-de-açúcar\n",
      "d) A competição com os holandeses e franceses\n",
      "e) A necessidade de estabelecer uma rota comercial com a Ásia\n",
      "\n",
      "QUESTÃO 2: Como a colonização portuguesa afetou a população indígena no Brasil?\n",
      "\n",
      "a) A população indígena foi completamente exterminada\n",
      "b) A população indígena foi integrada à sociedade portuguesa\n",
      "c) A população indígena foi forçada a trabalhar em condições de escravidão\n",
      "d) A população indígena foi isolada em reservas\n",
      "e) A população indígena foi protegida pelos portugueses\n",
      "\n",
      "QUESTÃO 3: Qual foi o papel dos africanos na colonização portuguesa do Brasil?\n",
      "\n",
      "a) Eles foram trazidos como colonos\n",
      "b) Eles foram trazidos como escravos para trabalhar nas plantações de cana-de-açúcar\n",
      "c) Eles foram trazidos como missionários para converter os indígenas\n",
      "d) Eles foram trazidos como soldados para lutar contra os holandeses e franceses\n",
      "e) Eles foram trazidos como comerciantes para estabelecer relações comerciais com a Ásia\n",
      "\n",
      "QUESTÃO 4: Qual foi o impacto da abolição da escravidão no Brasil?\n",
      "\n",
      "a) A economia brasileira entrou em colapso\n",
      "b) A população africana no Brasil diminuiu significativamente\n",
      "c) A sociedade brasileira se tornou mais igualitária\n",
      "d) A imigração europeia aumentou significativamente\n",
      "e) A política brasileira se tornou mais estável\n",
      "\n",
      "QUESTÃO 5: Qual foi o papel do comércio triangular na colonização portuguesa do Brasil?\n",
      "\n",
      "a) Ele foi um sistema de comércio que envolvia apenas o Brasil e Portugal\n",
      "b) Ele foi um sistema de comércio que envolvia o Brasil, Portugal e a África\n",
      "c) Ele foi um sistema de comércio que envolvia o Brasil, Portugal e a Ásia\n",
      "d) Ele foi um sistema de comércio que envolvia apenas o Brasil e a África\n",
      "e) Ele foi um sistema de comércio que envolvia apenas o Brasil e a Europa\n",
      "\n",
      "Gabarito: 1 - c) A exploração da cana-de-açúcar\n",
      "2 - c) A população indígena foi forçada a trabalhar em condições de escravidão\n",
      "3 - b) Eles foram trazidos como escravos para trabalhar nas plantações de cana-de-açúcar\n",
      "4 - c) A sociedade brasileira se tornou mais igualitária\n",
      "5 - b) Ele foi um sistema de comércio que envolvia o Brasil, Portugal e a África\n"

     ]
    }
   ],
   "source": [
    "print(response_simulado)"
   ]
  },
  {
   "cell_type": "markdown",
   "metadata": {},
   "source": [
    "## Retriever"
   ]
  },
  {
   "cell_type": "code",

   "execution_count": 68,

   "metadata": {},
   "outputs": [],
   "source": [
    "chain_rag_simu = retriever_simu \n",
    "chain_rag_video = retriever"
   ]
  },
  {
   "cell_type": "code",

   "execution_count": 69,

   "metadata": {},
   "outputs": [],
   "source": [
    "response_simu = chain_rag_simu.invoke(\" Qual é o significado do termo eurocentrismo no contexto da história do Brasil?\")"
   ]
  },
  {
   "cell_type": "code",

   "execution_count": 70,

   "metadata": {},
   "outputs": [
    {
     "data": {
      "text/plain": [
       "['Questão 8          \\nSlam do Corpo é um encontro pensado para surdos \\ne ouvintes, existente desde 2014, em São Paulo. Uma \\niniciativa pioneira do grupo Corposinalizante, criado em \\n2008. (Antes de seguirmos, vale a explicação: o termo \\nslam vem do inglês e significa — numa nova acepção \\npara o verbo geralmente utilizado para dizer “bater com \\nforça” — a “poesia falada nos ritmos das palavras e da \\ncidade”). Nos saraus, o primeiro objetivo foi o de botar \\nos poemas em Libras na roda, colocar os surdos para \\ncircular e entender esse encontro entre a poesia e a língua \\nde sinais, compreender o encontro dessas duas línguas. \\nPoemas de autoria própria, três minutos, um microfone. \\nSem figurino, nem adereços, nem acompanhamento \\nmusical. O que vale é modular a voz e o corpo, um \\ntrabalho artesanal de tornar a palavra “visível”, numa \\narena cujo objetivo maior é o de emocionar a plateia, tirar \\no público da passividade, seja pelo humor, horror, caos, \\ndoçura e outras tantas sensações.\\nNOVELLI, G. Poesia incorporada. Revista Continente, n. 189, set. 2016 (adaptado).\\nNa prática artística mencionada no texto, o corpo assume \\npapel de destaque ao articular diferentes linguagens com \\no intuito de\\nA  imprimir ritmo e visibilidade à expressão poética.\\nB  redefinir o espaço de circulação da poesia urbana.\\nC  estimular produções autorais de usuários de Libras.\\nD  traduzir expressões verbais para a língua de sinais.\\nE  proporcionar performances estéticas de pessoas \\nsurdas.\\n\\n\\nGabarito da questão: E',\n",
       " 'Questão 29          \\nSeu delegado\\nEu sou viúvo e tenho um filho homem\\nArrumei uma viúva e fui me casar\\nA minha sogra era muito teimosa\\nCom o meu filho foi se matrimoniar\\nDesse matrimônio nasceu um garoto\\nDesde esse dia que eu ando é louco\\nEsse garoto é filho do meu filho\\nE o filho da minha sogra é irmão da minha mulher\\nEle é meu neto e eu sou cunhado dele\\nA minha nora é minha sogra\\nMeu filho meu sogro é\\nNessa confusão já nem sei quem sou\\nAcaba esse garoto sendo meu avô.\\nTRIO FORROZÃO. Agitando a rapaziada. \\nRio de Janeiro: Natasha Records, 2009.\\nNessa letra da canção, a suposição do último verso \\nsinaliza a intenção do autor de\\nA  ironizar as relações familiares modernas.\\nB  reforçar o humor da situação representada.\\nC  expressar perplexidade em relação ao parente.\\nD  atribuir à criança a causa da dúvida existencial.\\nE  questionar os lugares predeterminados da família.*010175AZ13*\\nLC - 1° dia | Caderno 1 - AZUL - Página 13\\n\\nGabarito da questão: E',\n",
       " 'Questão 82          \\nAs cidades de Puebla, no México, e Legazpi, nas \\nFilipinas, não têm quase nada em comum. Estão muito \\nlonge uma da outra e são habitadas por povos muito \\ndiferentes. O que as une é um trágico detalhe de sua \\ngeografia. Elas foram erguidas na vizinhança de alguns \\ndos vulcões mais perigosos do mundo: o mexicano \\nPopocatepétl e o filipino Mayon. Seus habitantes \\nprecisam estar prontos para correr a qualquer hora. Eles \\nfazem parte dos 550 milhões de indivíduos que moram \\nem zonas de risco vulcânico no mundo. Ao contrário do \\nque seria sensato, continuam ali, indiferentes ao perigo \\nque os espreita.\\nANGELO, C. Disponível em: http://super.abril.com.br. Acesso em: 24 out. 2015 (adaptado).A característica física que justifica a fixação do homem \\nnos locais apresentados no texto é a ocorrência de\\nA  solo fértil.\\nB  encosta íngreme.\\nC  vegetação diversificada.\\nD  drenagem eficiente.\\nE  clima ameno.\\n\\nGabarito da questão: C']"
      ]
     },

     "execution_count": 70,

     "metadata": {},
     "output_type": "execute_result"
    }
   ],
   "source": [
    "[x.page_content for x in response_simu]"
   ]
  },
  {
   "cell_type": "code",

   "execution_count": 71,

   "metadata": {},
   "outputs": [
    {
     "name": "stdout",
     "output_type": "stream",
     "text": [

      "[Document(id='6ffc83d1-548f-4466-aeb4-cfd29d803730', metadata={'author': 'Parabólica', 'description': 'Unknown', 'length': 811.0, 'publish_date': '2018-04-27 00:00:00', 'source': '5Khp_i66eP8', 'thumbnail_url': 'https://i.ytimg.com/vi/5Khp_i66eP8/hq720.jpg', 'title': 'APRENDENDO A HISTÓRIA DO SÉCULO XVI.', 'view_count': 48101.0}, page_content='Title: APRENDENDO A HISTÓRIA DO SÉCULO XVI.\\nViews count: 48101\\nPublish date: 2018-04-27 00:00:00\\nAuthor: Parabólica\\nDescription: Unknown\\nLink video: https://www.youtube.com/watch?v=5Khp_i66eP8\\n\\nem luta contra os protestantes então o brasil começa a receber e que são fundadas por exemplo cidades importantes que não eram cidades eram vilas mas cuidado salvador que são salvador rio de janeiro que foi fundado para poder expulsar os franceses a são paulo são paulo de piratininga tão brasil está recebendo uma estrutura administrativa a gente começa a ter aqui no brasil há o plantio é a cultura da cana já suca que vai ser muito importante e um outro ponto muito importante que para o cultivo da cana de açúcar começa a ser trazer também africanos para trabalharem forçadamente para serem escravizados no brasil que começa essa triste história no brasil é essa essa parte essa página manchada e de basicamente aí séculos é mais de 400 anos é isso aqui na história do brasil é que a gente até vai chamar isso é esse processo nessa relação entre portugal ea metrópole brasil que a colônia ea áfrica que também seja uma espécie de colônia onde se pega se captura os africanos faz guerra contra os africanos a gente chama isso de comércio triangular o brasil sedia por exemplo uma matéria-prima a cana-de-açúcar um produto a áfrica a mão-de-obra sedia não né é verdade eram forçados a permanecer de maneira de dizer só em portugal administrá lá então a gente tem um comércio de um triângulo portugal áfrica e brasil que a gente chama de comércio triangular no brasil está ganhando uma cara administrativa que é uma cara à mandada por portugal a américa espanhola também uma carta mandada pela pela espanha e depois a gente nesse século também a gente vai ter holandeses aqui vai ter franceses então diria vocês que pra gente já passará agora para as nossas palavras chaves espero que vocês tenham entendido essa contextualização né eu deixo os links das aulas específicas sobre isso agora passar para as palavras-chaves eu vou trabalhar com duas aqui com vocês uma é são reformas reformas religiosas né reformas mas eu vou colocar reformas que o é uma extensão do século 15 mas agora acontecem as reformas né e uma outra obra chave que eu gosto de lembrar muito o século 16 é a colonização se no século 15 eu falei pra vocês a palavra chave eu não me engano eu falei que era descobrimento ou conquista descobrimento não ia muito bem agora é a hora da colonização a colonização da américa ok vocês podem deixar palavras chaves podem pensar se pode fazer esquemas mapas mentais tatá aberto a gente importante é que a gente entra na universidade eu tenho certeza que vocês querem muito isso eu tenho certeza que vocês confiram aqui que eu tenho certeza que vocês podem contar comigo tal gente então foi um grande prazer eu vou ficando por aqui grande beijo fui'), Document(id='db33291c-0eee-465d-8b2b-e27ea71d1c67', metadata={'author': 'Parabólica', 'description': 'Unknown', 'length': 1179.0, 'publish_date': '2017-06-29 00:00:00', 'source': 'hOiKSiek0xw', 'thumbnail_url': 'https://i.ytimg.com/vi/hOiKSiek0xw/hqdefault.jpg?sqp=-oaymwEXCJADEOABSFryq4qpAwkIARUAAIhCGAE=&rs=AOn4CLBZchXkJnpA7zeMZm7QMYZB1EQNug', 'title': 'INDEPENDÊNCIA DO BRASIL PARA O ENEM', 'view_count': 292864.0}, page_content='Title: INDEPENDÊNCIA DO BRASIL PARA O ENEM\\nViews count: 292864\\nPublish date: 2017-06-29 00:00:00\\nAuthor: Parabólica\\nDescription: Unknown\\nLink video: https://www.youtube.com/watch?v=hOiKSiek0xw\\n\\nculturas gente eu espero que você entende poderia deixar esse vídeo junto com o vídeo que fala sobre o processo de como que foi o primeiro reinado governo de dom pedro 1º agora não mais como regente mas sim como imperador mas vai ficar muito grande então e porque a gente precisa focar muito nesse processo de independência para entender essas coisas que eu falei para vocês eu espero que vocês tenham gostado eu espero que vocês tenham entendido como que a gente tem que analisar esse processo de independência que é muito importante é não deixe me seguindo as redes sociais vão trocar uma idéia por agentes a nota acrescenta que muitas coisas que eu deixo lá no twitter eu já vi o pessoal lá no tempo a pessoa fica sabendo antes de qualquer um aqui que nem sempre às vezes dá pra postar um vídeo se acontecer alguma coisa se eu tivesse que adiar um vídeo alguma coisa eu posso lá no twitter após postar no facebook também está certo eu vou ficando por aqui foi um grande prazer deixe nos comentários e eu vejo você no próximo vídeo aqui do parabólica fui'), Document(id='bde9d655-43bc-49b3-8ad3-5f2d5b3218ed', metadata={'author': 'Parabólica', 'description': 'Unknown', 'length': 1653.0, 'publish_date': '2018-10-11 00:00:00', 'source': 'Zrk-4WOeqgU', 'thumbnail_url': 'https://i.ytimg.com/vi/Zrk-4WOeqgU/hq720.jpg', 'title': 'HISTÓRIA DAS CONSTITUIÇÕES BRASILEIRAS.', 'view_count': 113664.0}, page_content='Title: HISTÓRIA DAS CONSTITUIÇÕES BRASILEIRAS.\\nViews count: 113664\\nPublish date: 2018-10-11 00:00:00\\nAuthor: Parabólica\\nDescription: Unknown\\nLink video: https://www.youtube.com/watch?v=Zrk-4WOeqgU\\n\\na gente poder a poder reivindicar e e elaborar emendas isso depende muito congresso quadro das bancadas que estão no congresso certo gente bom deu para perceber os grupos de interesse não é pra perceber a história do brasil todo meu tempo tá grande a o tempo os grupos de interesse os grupos de dominação desde a primeira constituição de 24 até a nossa atual de 1880 em 1988 bom se eles entenderam eu fico muito feliz tá dá uma olhada nas constituições a nota é essas partes importantes que acho que isso vai ajudar muito a estudar história do brasil desde o império até a nossa república lembrando que nós estamos abertos a e nós temos a nossa campanha do apoia-se aqui para o canal pra você quiser ajudar o canal crescer cada vez mais no sentido financeiro dá pra gente poder ficar mais ainda por conta não deixe de curtir compartilhar esse vídeo com seus amigos que estão estudando para o enem em deixar os seus comentários aqui engajamento é muito importante que faz o canal ele ser visto não faz cá não crescer e se inscrever se você está chegando agora aí dá uma olhada nos outros disse que a gente tem aqui no canal bom também cansado está muito calor eu vou ficando por aqui gente grande mesmo fui')]\n"

     ]
    }
   ],
   "source": [
    "print(chain_rag_video.invoke(\"Historia do brasil\", k=3))"
   ]
  },
  {
   "cell_type": "markdown",
   "metadata": {},
   "source": [
    "## Generate mock\n"
   ]
  },
  {
   "cell_type": "code",

   "execution_count": null,
   "metadata": {},
   "outputs": [],
   "source": []
  },
  {
   "cell_type": "code",
   "execution_count": 72,

   "metadata": {},
   "outputs": [],
   "source": [
    "chain = get_chain_mock(model=\"groq\")"
   ]
  },
  {
   "cell_type": "code",

   "execution_count": 73,

   "metadata": {},
   "outputs": [],
   "source": [
    "response_simulado = chain.invoke({\"user_query\": user_query})"
   ]
  },
  {
   "cell_type": "code",

   "execution_count": 74,
   "metadata": {},
   "outputs": [],
   "source": [
    "from pydantic import BaseModel, Field\n",
    "from typing import List\n",
    "\n",
    "system_prompt = \"\"\"\n",
    "Você é um bot chamado Edu e foi desenvolvido pela Nero.AI. Você vai pegar o simulado gerado e criar questões para compor um simulado do ENEM.\n",
    "\"\"\"\n",
    "\n",
    "prompt = ChatPromptTemplate.from_messages(\n",
    "        [\n",
    "            (\"system\", system_prompt), \n",
    "            (\"human\", \"Simulado: \\n\\n {mock}\")\n",
    "        ]\n",
    ")\n",
    "\n",
    "model_name = \"gpt-4o-2024-08-06\"\n",
    "\n",
    "llm = ChatOpenAI(\n",
    "    model=\"gpt-4o-2024-08-06\", # 100% json output\n",
    "    temperature=0,\n",
    ")\n",
    "\n",
    "class GetMockSchema(BaseModel):\n",
    "    \"\"\"Extrai schema de simulados -> questões e gabarito\"\"\"\n",
    "    \n",
    "    questions: List[str] = Field(description=\"As 5 principais questões do simulado\")\n",
    "    options: List[str] = Field(description=\"As 5 alternativas de cada questão\")\n",
    "    answers: List[str] = Field(description=\"As respostas corretas de cada questão\")\n",
    "    \n",
    "def format_output_mock(response_schema):\n",
    "    try:\n",
    "        args = response_schema.tool_calls[0]['args']\n",
    "    except:\n",
    "        return {\n",
    "            \"question\": 'EMPTY',\n",
    "            \"options\": ['EMPTY'] * 5,\n",
    "            \"answer\": 'EMPTY'\n",
    "        }\n",
    "\n",
    "    new_output = []\n",
    "    for q, o, a in zip(args['questions'], args['options'], args['answers']):\n",
    "        element = {\n",
    "            \"question\": q,\n",
    "            \"options\": o.split('\\n'),\n",
    "            \"answer\": a\n",
    "        }\n",
    "        new_output.append(element)\n",
    "    return new_output\n",
    "\n",
    "llm_with_tools_extraction = llm.bind_tools([GetMockSchema]) #, strict=True)\n",
    "chain_structured_extraction = prompt | llm_with_tools_extraction | RunnableLambda(format_output_mock)"
   ]
  },
  {
   "cell_type": "code",

   "execution_count": 75,

   "metadata": {},
   "outputs": [],
   "source": [
    "response_schema = chain_structured_extraction.invoke({\"mock\": response_simulado})"
   ]
  },
  {
   "cell_type": "code",

   "execution_count": 76,

   "metadata": {},
   "outputs": [
    {
     "data": {
      "text/plain": [
       "[{'question': 'Qual foi o principal motivo para a colonização portuguesa no Brasil durante o século XVI?',\n",
       "  'options': ['a) A busca por ouro e prata',\n",
       "   'b) A expansão da fé católica',\n",
       "   'c) A exploração da cana-de-açúcar',\n",

       "   'd) A competição com os holandeses e franceses',\n",
       "   'e) A necessidade de estabelecer uma rota comercial com a Ásia'],\n",
       "  'answer': 'c) A exploração da cana-de-açúcar'},\n",
       " {'question': 'Como a colonização portuguesa afetou a população indígena no Brasil?',\n",
       "  'options': ['a) Eles foram integrados à sociedade portuguesa como iguais',\n",
       "   'b) Eles foram forçados a trabalhar em fazendas e minas',\n",
       "   'c) Eles foram expulsos de suas terras e forçados a se mudar para outras regiões',\n",
       "   'd) Eles foram protegidos pelos portugueses e mantiveram sua cultura intacta',\n",
       "   'e) Eles foram exterminados pela doença e pela violência'],\n",
       "  'answer': 'b) Eles foram forçados a trabalhar em fazendas e minas'},\n",
       " {'question': 'Qual foi o papel dos africanos escravizados na economia colonial brasileira?',\n",
       "  'options': ['a) Eles trabalhavam como artesãos e comerciantes',\n",
       "   'b) Eles trabalhavam como agricultores e pecuaristas',\n",
       "   'c) Eles trabalhavam como mineradores e construtores',\n",
       "   'd) Eles trabalhavam como escravos em fazendas e minas',\n",
       "   'e) Eles trabalhavam como funcionários públicos e administradores'],\n",
       "  'answer': 'd) Eles trabalhavam como escravos em fazendas e minas'},\n",
       " {'question': 'Como a abolição da escravidão afetou a sociedade brasileira?',\n",
       "  'options': ['a) Ela levou a uma grande migração de africanos de volta à África',\n",
       "   'b) Ela levou a uma grande mudança na estrutura social e econômica do país',\n",
       "   'c) Ela levou a uma grande redução da população brasileira',\n",
       "   'd) Ela levou a uma grande aumento da desigualdade social e econômica',\n",
       "   'e) Ela não teve nenhum impacto significativo na sociedade brasileira'],\n",
       "  'answer': 'b) Ela levou a uma grande mudança na estrutura social e econômica do país'},\n",
       " {'question': 'Qual foi o papel do comércio triangular na economia colonial brasileira?',\n",
       "  'options': ['a) Ele envolvia o comércio de produtos entre o Brasil e a Europa',\n",
       "   'b) Ele envolvia o comércio de produtos entre o Brasil e a África',\n",
       "   'c) Ele envolvia o comércio de produtos entre o Brasil, a Europa e a África',\n",
       "   'd) Ele envolvia o comércio de produtos entre o Brasil e a Ásia',\n",
       "   'e) Ele não envolvia o comércio de produtos entre o Brasil e outras regiões'],\n",
       "  'answer': 'c) Ele envolvia o comércio de produtos entre o Brasil, a Europa e a África'}]"
      ]
     },
     "execution_count": 76,
     "metadata": {},
     "output_type": "execute_result"
    }
   ],
   "source": [
    "response_schema"
   ]
  },
  {
   "cell_type": "code",

   "execution_count": 86,

   "metadata": {},
   "outputs": [],
   "source": [
    "def format_output_mock(response_schema):\n",
    "    try:\n",
    "        args = response_schema.tool_calls[0]['args']\n",
    "    except:\n",
    "        return {\n",
    "            \"question\": 'EMPTY',\n",
    "            \"options\": ['EMPTY'] * 5,\n",
    "            \"answer\": 'EMPTY'\n",
    "        }\n",
    "\n",
    "    new_output = []\n",
    "    for q, o, a in zip(args['questions'], args['options'], args['answers']):\n",
    "        element = {\n",
    "            \"question\": q,\n",
    "            \"options\": o.split('\\n'),\n",
    "            \"answer\": a\n",
    "        }\n",
    "        new_output.append(element)\n",
    "    return new_output\n",
    "\n",
    "def get_chain_format_schema():\n",
    "    \n",
    "    system_prompt = \"\"\"\n",
    "    Você é um bot chamado Edu e foi desenvolvido pela Nero.AI. Você vai pegar o simulado gerado e criar questões para compor um simulado do ENEM.\n",
    "    \"\"\"\n",
    "\n",
    "    prompt = ChatPromptTemplate.from_messages(\n",
    "            [\n",
    "                (\"system\", system_prompt), \n",
    "                (\"human\", \"Simulado: \\n\\n {mock}\")\n",
    "            ]\n",
    "    )\n",
    "\n",
    "    model_name = \"gpt-4o-2024-08-06\"\n",
    "\n",
    "    llm = ChatOpenAI(\n",
    "        model=\"gpt-4o-2024-08-06\", # 100% json output\n",
    "        temperature=0,\n",
    "    )\n",
    "\n",
    "    class GetMockSchema(BaseModel):\n",
    "        \"\"\"Extrai schema de simulados -> questões e gabarito\"\"\"\n",
    "\n",
    "        questions: List[str] = Field(description=\"As 5 principais questões do simulado\")\n",
    "        options: List[str] = Field(description=\"As 5 alternativas de cada questão\")\n",
    "        answers: List[str] = Field(description=\"As respostas corretas de cada questão\")\n",
    "\n",

    "    llm_with_tools_extraction = llm.bind_tools([GetMockSchema]) #, strict=True)\n",
    "    chain_structured_extraction = prompt | llm_with_tools_extraction | RunnableLambda(format_output_mock)\n",
    "    \n",
    "    return chain_structured_extraction\n",
    "\n",
    "def get_chain_mock(retriever_simu, \n",
    "                   retriever, \n",
    "                   model=\"openai\"):\n",
    "    \n",
    "    if model == \"openai\":\n",
    "        _chat_ = ChatOpenAI\n",
    "        _model_name_ = \"gpt-4o-2024-08-06\"\n",
    "    elif model == \"groq\":\n",
    "        _chat_ = ChatGroq\n",
    "        _model_name_ = \"llama-3.2-90b-text-preview\"\n",
    "    \n",
    "    template = \"\"\"\n",
    "    Você é um assistente de modelo de linguagem de IA que irá gerar simulados. Sua tarefa é separar cada uma das matérias ou temas\n",
    "    que o usuário deseja estudar e gerar uma curta query descrevendo o temas, para facilitar a busca por similaridade.\n",
    "    A entrada do usuário pode ter uma ou mais matérias ou temas.\n",
    "    Forneça esses temas/matérias separados por novas linhas, no formato:\n",
    "    - Tema1: Descricao do tema1\n",
    "    - Tema2: Descricao do tema2\n",
    "    e assim por diante.\n",
    "    Separe os temas em: {user_query}\"\"\"\n",
    "    \n",
    "    template_1 = [\n",
    "        ('system', \"\"\"\n",
    "                    Você é um bot chamado Edu e foi desenvolvido pela Nero.AI. \n",
    "                    Você irá gerar questões para compor um simulado do ENEM.\"\"\"),\n",
    "        ('system', \"Use essas questões como exemplo de estrutura de questão\\n\\n{context_query_simu}\\n\\n\"),\n",
    "        ('system', \"Use esses documentos para embasar o conteúdo das questões\\n\\n{context_query_video}\\n\\n\"),\n",
    "        ('system', \"Não crie questões unicamente objetivas, como 'O que é?', 'Quem foi?', contextualize breventemente o tema e crie questões que exijam raciocínio.\"),\n",
    "        ('system', \"\"\"Forneça essas perguntas alternativas separadas por novas linhas. \\n:\n",
    "            Siga a estrutura usando markdown:\n",
    "            Tema: (tema_questao)\\n\n",
    "         \n",
    "            QUESTÃO 1: (questao_1)\\n\n",
    "            a) alternativa 1\n",
    "            b) alternativa 2\n",
    "            c) alternativa 3\n",
    "            d) alternativa 4\n",
    "            e) alternativa 5\n",
    "\n",
    "            QUESTÃO 2: (questao_2)\n",
    "            a) alternativa 1\n",
    "            b) alternativa 2\n",
    "            c) alternativa 3\n",
    "            d) alternativa 4\n",
    "            e) alternativa 5\n",
    "\n",
    "        e assim por diante.\n",
    "            Gabarito: 1 - (letra correspondente a alternativa)\\n\n",
    "                      2 - (letra correspondente a alternativa)\\n\n",
    "        e assim por diante.\n",
    "        \"\"\"),\n",
    "        ('system', \"Gere apenas 5 questões sobre o tema: {tema_questao}\"),\n",
    "    ]\n",
    "    \n",
    "    prompt1 = ChatPromptTemplate.from_messages(template_1)\n",
    "    \n",
    "    prompt = ChatPromptTemplate.from_template(template)\n",
    "\n",
    "    llm = _chat_(temperature=0.1, model=_model_name_)\n",
    "\n",
    "    generate_temas = (\n",
    "        prompt\n",
    "        | llm\n",
    "        | StrOutputParser()\n",
    "        | (lambda x: x.split(\"\\n\"))\n",
    "    )\n",
    "\n",
    "    chain_rag_simu = retriever_simu | format_docs\n",
    "    chain_rag_video = retriever | format_docs\n",
    "\n",
    "    chain_rag = (\n",
    "        {\n",
    "            \"context_query_simu\": RunnablePassthrough() | chain_rag_simu,\n",
    "            \"context_query_video\": RunnablePassthrough() | chain_rag_video,\n",
    "            \"tema_questao\": RunnablePassthrough()\n",
    "        }\n",
    "        | prompt1\n",
    "        | llm\n",
    "        | StrOutputParser()\n",
    "    )\n",
    "    \n",
    "    chain = generate_temas | chain_rag.map() | format_questoes | StrOutputParser()\n",
    "    \n",
    "    return chain"

   ]
  },
  {
   "cell_type": "code",
   "execution_count": 78,
   "metadata": {},
   "outputs": [],
   "source": [
    "chain_structured_extraction = get_chain_format_schema()"
   ]
  },
  {
   "cell_type": "code",

   "execution_count": 79,

   "metadata": {},
   "outputs": [
    {
     "data": {
      "text/plain": [
       "[{'question': 'Qual foi o principal motivo para a colonização portuguesa no Brasil durante o século XVI?',\n",
       "  'options': ['a) A busca por ouro e prata',\n",
       "   'b) A expansão da fé católica',\n",
       "   'c) A exploração da cana-de-açúcar',\n",

       "   'd) A competição com os holandeses e franceses',\n",
       "   'e) A necessidade de estabelecer uma rota comercial com a Ásia'],\n",
       "  'answer': 'c) A exploração da cana-de-açúcar'},\n",
       " {'question': 'Como a colonização portuguesa afetou a população indígena no Brasil?',\n",
       "  'options': ['a) Eles foram integrados à sociedade portuguesa como iguais',\n",
       "   'b) Eles foram forçados a trabalhar em fazendas e minas',\n",
       "   'c) Eles foram expulsos de suas terras e forçados a se mudar para outras regiões',\n",
       "   'd) Eles foram protegidos pelos portugueses e mantiveram sua cultura intacta',\n",
       "   'e) Eles foram exterminados pela doença e pela violência'],\n",
       "  'answer': 'b) Eles foram forçados a trabalhar em fazendas e minas'},\n",
       " {'question': 'Qual foi o papel dos africanos escravizados na economia colonial brasileira?',\n",
       "  'options': ['a) Eles trabalhavam como artesãos e comerciantes',\n",
       "   'b) Eles trabalhavam como agricultores e pecuaristas',\n",
       "   'c) Eles trabalhavam como mineradores e construtores',\n",
       "   'd) Eles trabalhavam como escravos em fazendas e minas',\n",
       "   'e) Eles trabalhavam como funcionários públicos e administradores'],\n",
       "  'answer': 'd) Eles trabalhavam como escravos em fazendas e minas'},\n",
       " {'question': 'Como a abolição da escravidão afetou a sociedade brasileira?',\n",
       "  'options': ['a) Ela levou a uma grande migração de africanos de volta à África',\n",
       "   'b) Ela levou a uma grande mudança na estrutura social e econômica do país',\n",
       "   'c) Ela levou a uma grande redução da população brasileira',\n",
       "   'd) Ela levou a uma grande aumento da desigualdade social e econômica',\n",
       "   'e) Ela não teve nenhum impacto significativo na sociedade brasileira'],\n",
       "  'answer': 'b) Ela levou a uma grande mudança na estrutura social e econômica do país'},\n",
       " {'question': 'Qual foi o papel do comércio triangular na economia colonial brasileira?',\n",
       "  'options': ['a) Ele envolvia o comércio de produtos entre o Brasil e a Europa',\n",
       "   'b) Ele envolvia o comércio de produtos entre o Brasil e a África',\n",
       "   'c) Ele envolvia o comércio de produtos entre o Brasil, a Europa e a África',\n",
       "   'd) Ele envolvia o comércio de produtos entre o Brasil e a Ásia',\n",
       "   'e) Ele não envolvia o comércio de produtos entre o Brasil e outras regiões'],\n",
       "  'answer': 'c) Ele envolvia o comércio de produtos entre o Brasil, a Europa e a África'}]"
      ]
     },
     "execution_count": 79,

     "metadata": {},
     "output_type": "execute_result"
    }
   ],
   "source": [
    "chain_structured_extraction.invoke({\"mock\": response_simulado})"
   ]
  },
  {

   "cell_type": "markdown",
   "metadata": {},
   "source": [
    "## Put together"
   ]
  },
  {
   "cell_type": "code",
   "execution_count": 87,
   "metadata": {},
   "outputs": [],
   "source": [
    "chain_mock = get_chain_mock(model=\"groq\", retriever_simu=retriever_simu, retriever=retriever)\n",
    "chain_schema_mock = get_chain_format_schema()"
   ]
  },
  {
   "cell_type": "code",
   "execution_count": 88,
   "metadata": {},
   "outputs": [],
   "source": [
    "chain_final = chain_mock | chain_schema_mock"
   ]
  },
  {
   "cell_type": "code",
   "execution_count": 89,
   "metadata": {},
   "outputs": [],
   "source": [
    "response_structured = chain_final.invoke({\"user_query\": user_query})"
   ]
  },
  {
   "cell_type": "code",
   "execution_count": 90,
   "metadata": {},
   "outputs": [
    {
     "data": {
      "text/plain": [
       "[{'question': 'Qual foi o principal motivo para a colonização portuguesa no Brasil durante o século XVI?',\n",
       "  'options': ['a) A busca por ouro e prata',\n",
       "   'b) A expansão do cristianismo',\n",
       "   'c) A exploração da cana-de-açúcar',\n",
       "   'd) A competição com os holandeses e franceses',\n",
       "   'e) A necessidade de estabelecer uma rota comercial com a Ásia'],\n",
       "  'answer': 'c) A exploração da cana-de-açúcar'},\n",
       " {'question': 'Como a colonização portuguesa afetou a população indígena no Brasil?',\n",
       "  'options': ['a) A população indígena foi completamente exterminada',\n",
       "   'b) A população indígena foi integrada à sociedade portuguesa',\n",
       "   'c) A população indígena foi forçada a trabalhar em condições de escravidão',\n",
       "   'd) A população indígena foi expulsa do território brasileiro',\n",
       "   'e) A população indígena foi protegida pelos portugueses'],\n",
       "  'answer': 'c) A população indígena foi forçada a trabalhar em condições de escravidão'},\n",
       " {'question': 'Qual foi o papel da cana-de-açúcar na economia colonial brasileira?',\n",
       "  'options': ['a) Foi um produto de exportação secundário',\n",
       "   'b) Foi um produto de exportação principal',\n",
       "   'c) Foi um produto de consumo interno',\n",
       "   'd) Foi um produto de troca com os indígenas',\n",
       "   'e) Foi um produto de uso exclusivo dos portugueses'],\n",
       "  'answer': 'b) Foi um produto de exportação principal'},\n",
       " {'question': 'Como a abolição da escravidão afetou a sociedade brasileira?',\n",
       "  'options': ['a) A abolição da escravidão não teve impacto significativo na sociedade brasileira',\n",
       "   'b) A abolição da escravidão levou a uma grande migração de africanos para o Brasil',\n",
       "   'c) A abolição da escravidão levou a uma grande mudança na estrutura social brasileira',\n",
       "   'd) A abolição da escravidão levou a uma grande crise econômica no Brasil',\n",
       "   'e) A abolição da escravidão levou a uma grande melhoria nas condições de vida dos africanos no Brasil'],\n",
       "  'answer': 'c) A abolição da escravidão levou a uma grande mudança na estrutura social brasileira'},\n",
       " {'question': 'Qual foi o papel dos organismos normativos em relação à questão agrária indígena no Brasil?',\n",
       "  'options': ['a) Os organismos normativos não tiveram papel significativo na questão agrária indígena',\n",
       "   'b) Os organismos normativos protegeram os direitos dos indígenas',\n",
       "   'c) Os organismos normativos permitiram a exploração dos territórios indígenas',\n",
       "   'd) Os organismos normativos estabeleceram reservas indígenas',\n",
       "   'e) Os organismos normativos não existiram até recentemente'],\n",
       "  'answer': 'd) Os organismos normativos estabeleceram reservas indígenas'}]"
      ]
     },
     "execution_count": 90,
     "metadata": {},
     "output_type": "execute_result"
    }
   ],
   "source": [
    "response_structured"
   ]
  },
  {
   "cell_type": "code",
   "execution_count": 91,
   "metadata": {},
   "outputs": [],
   "source": [
    "def get_final_chain(model=\"groq\", retriever_simu=retriever_simu, retriever=retriever):\n",
    "    chain_mock = get_chain_mock(model=\"groq\", retriever_simu=retriever_simu, retriever=retriever)\n",
    "    chain_schema_mock = get_chain_format_schema()\n",
    "    \n",
    "    chain_final = chain_mock | chain_schema_mock\n",
    "    return chain_final"
   ]
  },
  {
   "cell_type": "code",
   "execution_count": 92,
   "metadata": {},
   "outputs": [],
   "source": [
    "chain_final = get_final_chain(model=\"groq\", retriever_simu=retriever_simu, retriever=retriever)"
   ]
  },
  {
   "cell_type": "code",
   "execution_count": 93,
   "metadata": {},
   "outputs": [
    {
     "data": {
      "text/plain": [
       "[{'question': 'Qual foi o principal motivo para a fundação de cidades importantes no Brasil durante o século XVI?',\n",
       "  'options': ['a) Expulsar os franceses e estabelecer uma estrutura administrativa.',\n",
       "   'b) Desenvolver a cultura da cana-de-açúcar e trazer africanos para trabalharem forçadamente.',\n",
       "   'c) Estabelecer relações comerciais com a África e a Europa.',\n",
       "   'd) Proteger os indígenas e preservar a cultura local.',\n",
       "   'e) Desenvolver a indústria e o comércio no Brasil.'],\n",
       "  'answer': 'a'},\n",
       " {'question': 'Qual foi o nome dado ao comércio triangular que envolvia Portugal, África e Brasil durante o século XVI?',\n",
       "  'options': ['a) Comércio Atlântico',\n",
       "   'b) Comércio Triangular',\n",
       "   'c) Comércio Colonial',\n",
       "   'd) Comércio Internacional',\n",
       "   'e) Comércio Mercantil'],\n",
       "  'answer': 'b'},\n",
       " {'question': 'Qual foi o impacto da colonização no Brasil durante o século XVI?',\n",
       "  'options': ['a) Desenvolvimento da indústria e do comércio.',\n",
       "   'b) Proteção dos indígenas e preservação da cultura local.',\n",
       "   'c) Estabelecimento de relações comerciais com a África e a Europa.',\n",
       "   'd) Tragédia da escravidão e exploração dos africanos.',\n",
       "   'e) Desenvolvimento da cultura da cana-de-açúcar.'],\n",
       "  'answer': 'd'},\n",
       " {'question': 'Qual foi o papel da África no comércio triangular durante o século XVI?',\n",
       "  'options': ['a) Fornecer matéria-prima para a produção de açúcar.',\n",
       "   'b) Fornecer mão-de-obra forçada para a produção de açúcar.',\n",
       "   'c) Estabelecer relações comerciais com a Europa.',\n",
       "   'd) Desenvolver a indústria e o comércio.',\n",
       "   'e) Proteger os indígenas e preservar a cultura local.'],\n",
       "  'answer': 'b'},\n",
       " {'question': 'Qual foi o resultado da colonização no Brasil durante o século XVI?',\n",
       "  'options': ['a) Desenvolvimento da indústria e do comércio.',\n",
       "   'b) Proteção dos indígenas e preservação da cultura local.',\n",
       "   'c) Estabelecimento de relações comerciais com a África e a Europa.',\n",
       "   'd) Formação de uma sociedade multirracial e multicultural.',\n",
       "   'e) Desenvolvimento da cultura da cana-de-açúcar.'],\n",
       "  'answer': 'd'}]"
      ]
     },
     "execution_count": 93,
     "metadata": {},
     "output_type": "execute_result"
    }
   ],
   "source": [
    "response_structured = chain_final.invoke({\"user_query\": user_query})\n",
    "response_structured"
   ]
  },
  {

   "cell_type": "code",
   "execution_count": null,
   "metadata": {},
   "outputs": [],
   "source": []
  }
 ],
 "metadata": {
  "kernelspec": {
   "display_name": "env",
   "language": "python",
   "name": "python3"
  },
  "language_info": {
   "codemirror_mode": {
    "name": "ipython",
    "version": 3
   },
   "file_extension": ".py",
   "mimetype": "text/x-python",
   "name": "python",
   "nbconvert_exporter": "python",
   "pygments_lexer": "ipython3",
   "version": "3.10.11"
  }
 },
 "nbformat": 4,
 "nbformat_minor": 2
}
