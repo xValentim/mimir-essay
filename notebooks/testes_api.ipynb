{
 "cells": [
  {
   "cell_type": "code",
   "execution_count": 3,
   "metadata": {},
   "outputs": [],
   "source": [
    "import requests"
   ]
  },
  {
   "cell_type": "code",
   "execution_count": 4,
   "metadata": {},
   "outputs": [],
   "source": [
    "# endpoint = \"http://localhost:8000/essay\"\n",
    "endpoint = \"https://edu-ai.fly.dev/essay\"\n",
    "\n",
    "data = {\n",
    "    \"id_essay\": \"1\",\n",
    "    \"path_essay\": \"https://fly.storage.tigris.dev/essays/redacao_1.jpg\",\n",
    "    \"subject\": \"Legalização das drogas no Brasil\",\n",
    "}"
   ]
  },
  {
   "cell_type": "code",
   "execution_count": 5,
   "metadata": {},
   "outputs": [
    {
     "name": "stdout",
     "output_type": "stream",
     "text": [
      "success\n",
      "[{'competencia_1_feedback': 'A redação demonstra excelente domínio da modalidade escrita formal da Língua Portuguesa. Não há desvios significativos de gramática ou convenções da escrita. A ortografia, acentuação, uso de hífen, letras maiúsculas e minúsculas, e separação silábica estão corretos. O texto apresenta concordância verbal e nominal adequadas, como em \"existem desafios que precisam ser enfrentados\" e \"a desigualdade social gerada pela ausência do amparo estatal\". A regência verbal e nominal também está correta, como em \"ocasiona na aceitação de trabalhos mal remunerados\". A pontuação é utilizada de forma eficaz para estruturar o texto e facilitar a compreensão, como no uso de vírgulas para separar orações e elementos dentro das frases. A estrutura sintática é clara e bem organizada, com períodos bem construídos e coesos. O vocabulário é preciso e adequado ao tema, com termos como \"patriarcalismo\", \"desigualdade social\", \"invisibilidade\", e \"regulamentação de direitos trabalhistas\", que enriquecem a argumentação e demonstram um bom domínio lexical. Embora a redação esteja muito bem escrita, sempre é possível buscar aprimoramento. Uma sugestão seria explorar ainda mais a variedade de conectivos para enriquecer a coesão textual, como o uso de \"além disso\", \"por conseguinte\", ou \"em contrapartida\", para diversificar as transições entre ideias.', 'competencia_1_grade': 200, 'competencia_2_feedback': 'A redação demonstra uma compreensão clara e aprofundada do tema proposto, que é a invisibilidade do trabalho de cuidado realizado por mulheres no Brasil. O texto aborda de forma precisa os desafios enfrentados por essas mulheres, como a desigualdade social e o patriarcalismo, mostrando que o autor compreendeu bem a proposta de redação. O autor utiliza referências culturais e legais para embasar sua argumentação, como a obra \"Quarto de Despejo\" de Carolina Maria de Jesus e a Constituição Federal. Isso demonstra um repertório sociocultural produtivo e a capacidade de aplicar conceitos de diferentes áreas do conhecimento para desenvolver o tema. O texto segue a estrutura dissertativo-argumentativa de forma exemplar, com uma introdução que apresenta a tese, desenvolvimento com argumentação consistente e uma conclusão que propõe uma intervenção. Cada parágrafo é bem estruturado, com ideias claras e coesas. Embora a redação já esteja em um nível excelente, o autor poderia enriquecer ainda mais a argumentação trazendo dados estatísticos ou estudos recentes que reforcem os argumentos apresentados. Além disso, poderia explorar mais exemplos de políticas públicas bem-sucedidas em outros países que poderiam servir de modelo para o Brasil.', 'competencia_2_grade': 200, 'competencia_3_feedback': 'A redação apresenta uma seleção clara e organizada de informações, fatos e opiniões pertinentes ao tema proposto. O texto inicia com uma contextualização histórica e social do papel das mulheres no mercado de trabalho, o que é relevante para a discussão sobre a invisibilidade do trabalho de cuidado. A menção à obra \"Quarto de Despejo\" de Carolina Maria de Jesus é um exemplo bem escolhido que ilustra a desigualdade social e a invisibilidade enfrentada por mulheres em situações de vulnerabilidade. O autor defende de forma consistente o ponto de vista de que a desigualdade social e o patriarcalismo são fatores que contribuem para a invisibilidade do trabalho de cuidado realizado por mulheres. A argumentação é clara e bem estruturada, com uma tese explícita e argumentos que a sustentam ao longo do texto. A redação mantém coerência e coesão ao longo dos parágrafos, com uma progressão lógica de ideias. A transição entre os parágrafos é fluida, e cada argumento é desenvolvido de maneira a reforçar a tese central. A conclusão apresenta uma proposta de intervenção clara e viável, sugerindo a criação de leis específicas para assegurar a visibilidade e os direitos trabalhistas das mulheres que realizam trabalho de cuidado. Essa proposta está alinhada com a argumentação desenvolvida ao longo do texto. Embora a redação já apresente argumentos bem estruturados, poderia haver um aprofundamento maior em alguns pontos, como a discussão sobre o impacto do envelhecimento da população na demanda por trabalho de cuidado. Incluir mais exemplos ou dados estatísticos poderia enriquecer ainda mais a argumentação, oferecendo uma base empírica para os argumentos apresentados. Considerar outras perspectivas ou desafios relacionados ao tema, como a questão da divisão de tarefas domésticas entre gêneros, poderia ampliar a discussão e demonstrar uma análise mais abrangente do problema.', 'competencia_3_grade': 200}, {'competencia_4_feedback': 'A redação apresenta uma excelente articulação das ideias, com uso adequado de conectivos e operadores argumentativos. Por exemplo, o uso de \"Com efeito\", \"Diante desse cenário\", \"Nesse sentido\", \"Outrossim\", e \"Dessa forma\" demonstra um domínio pleno dos recursos coesivos, conectando bem as partes do texto e garantindo fluidez na argumentação. O texto não apresenta fragmentação de ideias ou desvios de coesão textual. As ideias são bem encadeadas, e a argumentação é clara e lógica. A utilização de referências, como a obra \"Quarto de Despejo\" e a Constituição Federal, é feita de maneira coesa, integrando-se bem ao desenvolvimento do tema. O uso de um repertório diversificado de recursos coesivos é evidente, o que enriquece a argumentação e demonstra um domínio avançado da língua. A redação não apresenta repetições desnecessárias de palavras ou substituições inadequadas, o que contribui para a clareza e a coesão do texto. Embora a redação já esteja em um nível muito bom, o autor pode continuar a explorar diferentes tipos de conectivos e modalizadores para enriquecer ainda mais o texto. Além disso, pode-se considerar a introdução de mais exemplos ou dados estatísticos para fortalecer ainda mais a argumentação, caso o tema permita.', 'competencia_4_grade': 200, 'competencia_5_feedback': 'A redação apresenta uma proposta de intervenção clara e articulada com a discussão do texto. O autor sugere que o Congresso Nacional elabore leis específicas para assegurar a visibilidade e regulamentação dos direitos trabalhistas do trabalho de cuidado, que é majoritariamente realizado por mulheres. Essa proposta está bem relacionada ao tema e aos problemas discutidos, como a desigualdade social e o patriarcalismo. A proposta poderia ser ainda mais detalhada para alcançar a pontuação máxima. Por exemplo, o autor poderia especificar quais tipos de leis ou políticas públicas seriam mais eficazes, como a implementação de programas de conscientização sobre a importância do trabalho de cuidado ou incentivos fiscais para empregadores que promovam a igualdade de gênero no ambiente de trabalho. A proposta respeita os direitos humanos ao buscar garantir uma vida digna e justa para as mulheres que realizam trabalhos de cuidado, promovendo a igualdade de gênero e a justiça social. Para melhorar, o autor poderia incluir mais detalhes sobre como essas leis seriam implementadas e monitoradas, quem seriam os responsáveis por sua execução e como a sociedade civil poderia participar desse processo. Além disso, poderia sugerir parcerias com organizações não governamentais ou internacionais que já atuam na promoção dos direitos das mulheres. Incluir exemplos de países ou regiões onde políticas semelhantes foram implementadas com sucesso poderia fortalecer a proposta, mostrando que é viável e já foi testada em outros contextos.', 'competencia_5_grade': 160}, {'id_essay': '1'}, {'raw_feedback': '## Tema da redação: A invisibilidade do trabalho de cuidado realizado por mulheres no Brasil\\n# Nota total: 960\\n\\n## Competência 1 - Nota: 200\\n\\n- **Domínio da norma culta**: A redação demonstra excelente domínio da modalidade escrita formal da Língua Portuguesa. Não há desvios significativos de gramática ou convenções da escrita. A ortografia, acentuação, uso de hífen, letras maiúsculas e minúsculas, e separação silábica estão corretos.\\n  \\n- **Concordância e Regência**: O texto apresenta concordância verbal e nominal adequadas, como em \"existem desafios que precisam ser enfrentados\" e \"a desigualdade social gerada pela ausência do amparo estatal\". A regência verbal e nominal também está correta, como em \"ocasiona na aceitação de trabalhos mal remunerados\".\\n\\n- **Pontuação e Estrutura Sintática**: A pontuação é utilizada de forma eficaz para estruturar o texto e facilitar a compreensão, como no uso de vírgulas para separar orações e elementos dentro das frases. A estrutura sintática é clara e bem organizada, com períodos bem construídos e coesos.\\n\\n- **Precisão Vocabular**: O vocabulário é preciso e adequado ao tema, com termos como \"patriarcalismo\", \"desigualdade social\", \"invisibilidade\", e \"regulamentação de direitos trabalhistas\", que enriquecem a argumentação e demonstram um bom domínio lexical.\\n\\n- **Sugestões de Melhoria**: Embora a redação esteja muito bem escrita, sempre é possível buscar aprimoramento. Uma sugestão seria explorar ainda mais a variedade de conectivos para enriquecer a coesão textual, como o uso de \"além disso\", \"por conseguinte\", ou \"em contrapartida\", para diversificar as transições entre ideias.\\n\\n## Competência 2 - Nota: 200\\n\\n- **Compreensão do Tema**: A redação demonstra uma compreensão clara e aprofundada do tema proposto, que é a invisibilidade do trabalho de cuidado realizado por mulheres no Brasil. O texto aborda de forma precisa os desafios enfrentados por essas mulheres, como a desigualdade social e o patriarcalismo, mostrando que o autor compreendeu bem a proposta de redação.\\n  \\n- **Uso de Conceitos de Várias Áreas do Conhecimento**: O autor utiliza referências culturais e legais para embasar sua argumentação, como a obra \"Quarto de Despejo\" de Carolina Maria de Jesus e a Constituição Federal. Isso demonstra um repertório sociocultural produtivo e a capacidade de aplicar conceitos de diferentes áreas do conhecimento para desenvolver o tema.\\n\\n- **Estrutura Dissertativo-Argumentativa**: O texto segue a estrutura dissertativo-argumentativa de forma exemplar, com uma introdução que apresenta a tese, desenvolvimento com argumentação consistente e uma conclusão que propõe uma intervenção. Cada parágrafo é bem estruturado, com ideias claras e coesas.\\n\\n- **Sugestões de Melhoria**: Embora a redação já esteja em um nível excelente, o autor poderia enriquecer ainda mais a argumentação trazendo dados estatísticos ou estudos recentes que reforcem os argumentos apresentados. Além disso, poderia explorar mais exemplos de políticas públicas bem-sucedidas em outros países que poderiam servir de modelo para o Brasil.\\n\\n## Competência 3 - Nota: 200\\n\\n- **Seleção e Organização de Informações**: A redação apresenta uma seleção clara e organizada de informações, fatos e opiniões pertinentes ao tema proposto. O texto inicia com uma contextualização histórica e social do papel das mulheres no mercado de trabalho, o que é relevante para a discussão sobre a invisibilidade do trabalho de cuidado. A menção à obra \"Quarto de Despejo\" de Carolina Maria de Jesus é um exemplo bem escolhido que ilustra a desigualdade social e a invisibilidade enfrentada por mulheres em situações de vulnerabilidade.\\n\\n- **Defesa de Ponto de Vista**: O autor defende de forma consistente o ponto de vista de que a desigualdade social e o patriarcalismo são fatores que contribuem para a invisibilidade do trabalho de cuidado realizado por mulheres. A argumentação é clara e bem estruturada, com uma tese explícita e argumentos que a sustentam ao longo do texto.\\n\\n- **Coerência e Coesão**: A redação mantém coerência e coesão ao longo dos parágrafos, com uma progressão lógica de ideias. A transição entre os parágrafos é fluida, e cada argumento é desenvolvido de maneira a reforçar a tese central.\\n\\n- **Proposta de Intervenção**: A conclusão apresenta uma proposta de intervenção clara e viável, sugerindo a criação de leis específicas para assegurar a visibilidade e os direitos trabalhistas das mulheres que realizam trabalho de cuidado. Essa proposta está alinhada com a argumentação desenvolvida ao longo do texto.\\n\\n### Sugestões de Melhoria:\\n- **Aprofundamento dos Argumentos**: Embora a redação já apresente argumentos bem estruturados, poderia haver um aprofundamento maior em alguns pontos, como a discussão sobre o impacto do envelhecimento da população na demanda por trabalho de cuidado.\\n- **Exemplos Adicionais**: Incluir mais exemplos ou dados estatísticos poderia enriquecer ainda mais a argumentação, oferecendo uma base empírica para os argumentos apresentados.\\n- **Exploração de Outras Perspectivas**: Considerar outras perspectivas ou desafios relacionados ao tema, como a questão da divisão de tarefas domésticas entre gêneros, poderia ampliar a discussão e demonstrar uma análise mais abrangente do problema.\\n\\n## Competência 4 - Nota: 200\\n\\n- **Articulação das ideias**: A redação apresenta uma excelente articulação das ideias, com uso adequado de conectivos e operadores argumentativos. Por exemplo, o uso de \"Com efeito\", \"Diante desse cenário\", \"Nesse sentido\", \"Outrossim\", e \"Dessa forma\" demonstra um domínio pleno dos recursos coesivos, conectando bem as partes do texto e garantindo fluidez na argumentação.\\n  \\n- **Coesão textual**: O texto não apresenta fragmentação de ideias ou desvios de coesão textual. As ideias são bem encadeadas, e a argumentação é clara e lógica. A utilização de referências, como a obra \"Quarto de Despejo\" e a Constituição Federal, é feita de maneira coesa, integrando-se bem ao desenvolvimento do tema.\\n\\n- **Repertório diversificado**: O uso de um repertório diversificado de recursos coesivos é evidente, o que enriquece a argumentação e demonstra um domínio avançado da língua. A redação não apresenta repetições desnecessárias de palavras ou substituições inadequadas, o que contribui para a clareza e a coesão do texto.\\n\\n- **Sugestões de melhoria**: Embora a redação já esteja em um nível muito bom, o autor pode continuar a explorar diferentes tipos de conectivos e modalizadores para enriquecer ainda mais o texto. Além disso, pode-se considerar a introdução de mais exemplos ou dados estatísticos para fortalecer ainda mais a argumentação, caso o tema permita.\\n\\n## Competência 5 - Nota: 160\\n\\n- **Proposta de Intervenção Bem Elaborada**: A redação apresenta uma proposta de intervenção clara e articulada com a discussão do texto. O autor sugere que o Congresso Nacional elabore leis específicas para assegurar a visibilidade e regulamentação dos direitos trabalhistas do trabalho de cuidado, que é majoritariamente realizado por mulheres. Essa proposta está bem relacionada ao tema e aos problemas discutidos, como a desigualdade social e o patriarcalismo.\\n\\n- **Detalhamento da Proposta**: A proposta poderia ser ainda mais detalhada para alcançar a pontuação máxima. Por exemplo, o autor poderia especificar quais tipos de leis ou políticas públicas seriam mais eficazes, como a implementação de programas de conscientização sobre a importância do trabalho de cuidado ou incentivos fiscais para empregadores que promovam a igualdade de gênero no ambiente de trabalho.\\n\\n- **Respeito aos Direitos Humanos**: A proposta respeita os direitos humanos ao buscar garantir uma vida digna e justa para as mulheres que realizam trabalhos de cuidado, promovendo a igualdade de gênero e a justiça social.\\n\\n- **Sugestões de Melhoria**: Para melhorar, o autor poderia incluir mais detalhes sobre como essas leis seriam implementadas e monitoradas, quem seriam os responsáveis por sua execução e como a sociedade civil poderia participar desse processo. Além disso, poderia sugerir parcerias com organizações não governamentais ou internacionais que já atuam na promoção dos direitos das mulheres.\\n\\n- **Exemplos Práticos**: Incluir exemplos de países ou regiões onde políticas semelhantes foram implementadas com sucesso poderia fortalecer a proposta, mostrando que é viável e já foi testada em outros contextos.'}]\n"
     ]
    }
   ],
   "source": [
    "response = requests.post(endpoint, json=data)\n",
    "\n",
    "if response.status_code == 200:\n",
    "    print(\"success\")\n",
    "    print(response.json())\n",
    "else:\n",
    "    print(\"error\")\n",
    "    print(response.status_code)\n",
    "    print(response.text)"
   ]
  },
  {
   "cell_type": "code",
   "execution_count": null,
   "metadata": {},
   "outputs": [],
   "source": [
    "response.json()"
   ]
  },
  {
   "cell_type": "code",
   "execution_count": null,
   "metadata": {},
   "outputs": [],
   "source": [
    "\n",
    "endpoint = \"http://localhost:8000/vector-search-mock\"\n",
    "data = {\n",
    "    \"query\": \"Qual é o significado do termo eurocentrismo no contexto da história do Brasil?\",\n",
    "    \"k\": 5,\n",
    "}\n",
    "\n",
    "response = requests.post(endpoint, json=data)\n",
    "\n",
    "if response.status_code == 200:\n",
    "    print(\"success\")\n",
    "    print(response.json())\n",
    "else:\n",
    "    print(\"error\")\n",
    "    print(response.status_code)\n",
    "    print(response.text)"
   ]
  },
  {
   "cell_type": "code",
   "execution_count": null,
   "metadata": {},
   "outputs": [],
   "source": [
    "response.json()"
   ]
  },
  {
   "cell_type": "code",
   "execution_count": null,
   "metadata": {},
   "outputs": [],
   "source": []
  }
 ],
 "metadata": {
  "kernelspec": {
   "display_name": "env",
   "language": "python",
   "name": "python3"
  },
  "language_info": {
   "codemirror_mode": {
    "name": "ipython",
    "version": 3
   },
   "file_extension": ".py",
   "mimetype": "text/x-python",
   "name": "python",
   "nbconvert_exporter": "python",
   "pygments_lexer": "ipython3",
   "version": "3.9.5"
  }
 },
 "nbformat": 4,
 "nbformat_minor": 2
}
